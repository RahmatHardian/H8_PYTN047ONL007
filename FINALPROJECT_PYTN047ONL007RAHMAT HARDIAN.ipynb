{
 "cells": [
  {
   "cell_type": "markdown",
   "metadata": {},
   "source": [
    "<img src = \"https://global-uploads.webflow.com/5f0d53c042a9ed6288de7f8d/5f6337ae2cfaa10946ceeb06_Hacktiv8%20logo%20horizontal%2001%20black-p-500.png\" width = 400>\n",
    "<h1 align=center><font size = 5>Hacktiv8 PTP Introduction to Data Science Final Project // Statistical Treatment for Retail Dataset</font></h1>"
   ]
  },
  {
   "cell_type": "markdown",
   "metadata": {},
   "source": [
    "# Pengenalan\n",
    "\n",
    "### Latar Belakang\n",
    "Final project berlatang belakang data klasifikasi Job Family dibeberapa platform learning yang masih dilakukan secara manual, dan subjektif dari masing-masing admin yang menginputkan job family. \n",
    "\n",
    "### Tujuan\n",
    "Final project ini akan melakukan text classification dengan target label yaitu job family berdasarkan fitur title dan deskripsi dari course yang ada.\n",
    "\n",
    "### Data\n",
    "Data yang digunakan adalah 11301 data course dari kampiun dan digital learning yang telah memiliki label Job Family"
   ]
  },
  {
   "cell_type": "markdown",
   "metadata": {},
   "source": [
    "# Import Library"
   ]
  },
  {
   "cell_type": "code",
   "execution_count": 4,
   "metadata": {},
   "outputs": [],
   "source": [
    "import pandas as pd\n",
    "import numpy as np\n",
    "import pickle\n",
    "from sklearn import preprocessing\n",
    "import seaborn as sns\n",
    "import re\n",
    "from nltk.tokenize import word_tokenize\n",
    "from collections import defaultdict\n",
    "from nltk.corpus import wordnet as wn\n",
    "from Sastrawi.Stemmer.StemmerFactory import StemmerFactory\n",
    "from nltk.stem import WordNetLemmatizer\n",
    "from nltk import pos_tag\n",
    "from nltk.corpus import stopwords\n",
    "from sklearn import model_selection, naive_bayes, svm\n",
    "from sklearn.preprocessing import LabelEncoder\n",
    "from sklearn.feature_extraction.text import TfidfVectorizer\n",
    "import matplotlib.pyplot as plt\n",
    "\n",
    "# Algoritma klasifikasi\n",
    "from sklearn.metrics import accuracy_score\n",
    "from sklearn.ensemble import RandomForestClassifier\n",
    "from sklearn.linear_model import LogisticRegression\n",
    "from sklearn.neighbors import KNeighborsClassifier\n",
    "from sklearn.tree import DecisionTreeClassifier "
   ]
  },
  {
   "cell_type": "markdown",
   "metadata": {},
   "source": [
    "# Data Loading & Exploratory Data Analysis"
   ]
  },
  {
   "cell_type": "code",
   "execution_count": 5,
   "metadata": {
    "scrolled": true
   },
   "outputs": [
    {
     "data": {
      "text/html": [
       "<div>\n",
       "<style scoped>\n",
       "    .dataframe tbody tr th:only-of-type {\n",
       "        vertical-align: middle;\n",
       "    }\n",
       "\n",
       "    .dataframe tbody tr th {\n",
       "        vertical-align: top;\n",
       "    }\n",
       "\n",
       "    .dataframe thead th {\n",
       "        text-align: right;\n",
       "    }\n",
       "</style>\n",
       "<table border=\"1\" class=\"dataframe\">\n",
       "  <thead>\n",
       "    <tr style=\"text-align: right;\">\n",
       "      <th></th>\n",
       "      <th>source</th>\n",
       "      <th>org_id</th>\n",
       "      <th>doc_id</th>\n",
       "      <th>doc_title</th>\n",
       "      <th>doc_description</th>\n",
       "      <th>Job Family</th>\n",
       "      <th>Job Function</th>\n",
       "      <th>job_role</th>\n",
       "      <th>job_role_clean</th>\n",
       "    </tr>\n",
       "  </thead>\n",
       "  <tbody>\n",
       "    <tr>\n",
       "      <th>0</th>\n",
       "      <td>Kampiun</td>\n",
       "      <td>NaN</td>\n",
       "      <td>27243</td>\n",
       "      <td>Case Study 1 tahun Magang di Kementerian BUMN</td>\n",
       "      <td>NaN</td>\n",
       "      <td>BUSINESS ENABLER/ENTERPRISE MGT</td>\n",
       "      <td>Human Capital</td>\n",
       "      <td>5.2.3 Learning &amp;amp; Development</td>\n",
       "      <td>Learning &amp; Development</td>\n",
       "    </tr>\n",
       "    <tr>\n",
       "      <th>1</th>\n",
       "      <td>Kampiun</td>\n",
       "      <td>NaN</td>\n",
       "      <td>29134</td>\n",
       "      <td>Case Study 1 tahun Magang di Kementerian BUMN</td>\n",
       "      <td>NaN</td>\n",
       "      <td>BUSINESS ENABLER/ENTERPRISE MGT</td>\n",
       "      <td>Human Capital</td>\n",
       "      <td>5.2.3 Learning &amp;amp; Development</td>\n",
       "      <td>Learning &amp; Development</td>\n",
       "    </tr>\n",
       "    <tr>\n",
       "      <th>2</th>\n",
       "      <td>Kampiun</td>\n",
       "      <td>NaN</td>\n",
       "      <td>28690</td>\n",
       "      <td>ILC : Securing Revenue Witel Riau Daratan 2017</td>\n",
       "      <td>NaN</td>\n",
       "      <td>STRATEGIC PLAN &amp; DEVELOPMENT</td>\n",
       "      <td>Strategic Planning</td>\n",
       "      <td>2.1.1 Internal &amp;amp; External Analysis</td>\n",
       "      <td>Internal &amp; External Analysis</td>\n",
       "    </tr>\n",
       "    <tr>\n",
       "      <th>3</th>\n",
       "      <td>Kampiun</td>\n",
       "      <td>NaN</td>\n",
       "      <td>33756</td>\n",
       "      <td>SIKAT HABIS FTTH UNSPEC DENGAN MINI OLT OUTDOOR</td>\n",
       "      <td>NaN</td>\n",
       "      <td>DIGITAL &amp; ICT</td>\n",
       "      <td>Telecommunication</td>\n",
       "      <td>1.1.6 Access Network O&amp;amp;M</td>\n",
       "      <td>Access Network Operation &amp; Maintenance</td>\n",
       "    </tr>\n",
       "    <tr>\n",
       "      <th>4</th>\n",
       "      <td>Kampiun</td>\n",
       "      <td>NaN</td>\n",
       "      <td>38567</td>\n",
       "      <td>PROSES PENGAJUAN CAPEX FTTH INDIHOME DI WITEL NTB</td>\n",
       "      <td>NaN</td>\n",
       "      <td>DIGITAL &amp; ICT</td>\n",
       "      <td>Telecommunication</td>\n",
       "      <td>1.1.2 Access Network Design &amp;amp; Planning</td>\n",
       "      <td>Access Network Design &amp; Planning</td>\n",
       "    </tr>\n",
       "    <tr>\n",
       "      <th>...</th>\n",
       "      <td>...</td>\n",
       "      <td>...</td>\n",
       "      <td>...</td>\n",
       "      <td>...</td>\n",
       "      <td>...</td>\n",
       "      <td>...</td>\n",
       "      <td>...</td>\n",
       "      <td>...</td>\n",
       "      <td>...</td>\n",
       "    </tr>\n",
       "    <tr>\n",
       "      <th>11296</th>\n",
       "      <td>Kampiun</td>\n",
       "      <td>NaN</td>\n",
       "      <td>35659</td>\n",
       "      <td>PENTINGNYA LOYALITAS PELANGGAN</td>\n",
       "      <td>Ditengah-tengah persaingan berbagai bisnis/ind...</td>\n",
       "      <td>COMMERCE &amp; RELATION</td>\n",
       "      <td>Sales</td>\n",
       "      <td>3.2.1 Sales Management</td>\n",
       "      <td>Sales Management</td>\n",
       "    </tr>\n",
       "    <tr>\n",
       "      <th>11297</th>\n",
       "      <td>Kampiun</td>\n",
       "      <td>NaN</td>\n",
       "      <td>38867</td>\n",
       "      <td>Uji Terima Online dalam Proyek Digitalisasi SP...</td>\n",
       "      <td>1. Latar Belakang           \\n                ...</td>\n",
       "      <td>DIGITAL &amp; ICT</td>\n",
       "      <td>Information Technology</td>\n",
       "      <td>1.2.2 IT Solution Development</td>\n",
       "      <td>IT Solution Development</td>\n",
       "    </tr>\n",
       "    <tr>\n",
       "      <th>11298</th>\n",
       "      <td>Kampiun</td>\n",
       "      <td>NaN</td>\n",
       "      <td>40529</td>\n",
       "      <td>REKON TAGIHAN PSB  TA TO TELKOM  WITEL PURWOKERTO</td>\n",
       "      <td>CARA REKON TAGIHAN PSB  TA KE TELKOM \\n \\n1. A...</td>\n",
       "      <td>BUSINESS ENABLER/ENTERPRISE MGT</td>\n",
       "      <td>Education</td>\n",
       "      <td>5.7.3 Education Operation</td>\n",
       "      <td>Education Operation</td>\n",
       "    </tr>\n",
       "    <tr>\n",
       "      <th>11299</th>\n",
       "      <td>Kampiun</td>\n",
       "      <td>NaN</td>\n",
       "      <td>39161</td>\n",
       "      <td>TDSCC  (Telkom DIGITAL SOLUTION CARE CENTER) G...</td>\n",
       "      <td>#NAME?</td>\n",
       "      <td>DIGITAL &amp; ICT</td>\n",
       "      <td>Information Technology</td>\n",
       "      <td>1.2.4 IT Operations</td>\n",
       "      <td>IT Operations</td>\n",
       "    </tr>\n",
       "    <tr>\n",
       "      <th>11300</th>\n",
       "      <td>Kampiun</td>\n",
       "      <td>NaN</td>\n",
       "      <td>25622</td>\n",
       "      <td>Blockchain adoption in order  to Implement Bio...</td>\n",
       "      <td>#NAME?</td>\n",
       "      <td>DIGITAL &amp; ICT</td>\n",
       "      <td>DIGITAL PRODUCT &amp; SERVICE</td>\n",
       "      <td>1.3.3 Product &amp;amp;  Ecosystem Design</td>\n",
       "      <td>Product &amp; Ecosystem Design</td>\n",
       "    </tr>\n",
       "  </tbody>\n",
       "</table>\n",
       "<p>11301 rows × 9 columns</p>\n",
       "</div>"
      ],
      "text/plain": [
       "        source  org_id  doc_id  \\\n",
       "0      Kampiun     NaN   27243   \n",
       "1      Kampiun     NaN   29134   \n",
       "2      Kampiun     NaN   28690   \n",
       "3      Kampiun     NaN   33756   \n",
       "4      Kampiun     NaN   38567   \n",
       "...        ...     ...     ...   \n",
       "11296  Kampiun     NaN   35659   \n",
       "11297  Kampiun     NaN   38867   \n",
       "11298  Kampiun     NaN   40529   \n",
       "11299  Kampiun     NaN   39161   \n",
       "11300  Kampiun     NaN   25622   \n",
       "\n",
       "                                               doc_title  \\\n",
       "0          Case Study 1 tahun Magang di Kementerian BUMN   \n",
       "1          Case Study 1 tahun Magang di Kementerian BUMN   \n",
       "2         ILC : Securing Revenue Witel Riau Daratan 2017   \n",
       "3        SIKAT HABIS FTTH UNSPEC DENGAN MINI OLT OUTDOOR   \n",
       "4      PROSES PENGAJUAN CAPEX FTTH INDIHOME DI WITEL NTB   \n",
       "...                                                  ...   \n",
       "11296                     PENTINGNYA LOYALITAS PELANGGAN   \n",
       "11297  Uji Terima Online dalam Proyek Digitalisasi SP...   \n",
       "11298  REKON TAGIHAN PSB  TA TO TELKOM  WITEL PURWOKERTO   \n",
       "11299  TDSCC  (Telkom DIGITAL SOLUTION CARE CENTER) G...   \n",
       "11300  Blockchain adoption in order  to Implement Bio...   \n",
       "\n",
       "                                         doc_description  \\\n",
       "0                                                    NaN   \n",
       "1                                                    NaN   \n",
       "2                                                    NaN   \n",
       "3                                                    NaN   \n",
       "4                                                    NaN   \n",
       "...                                                  ...   \n",
       "11296  Ditengah-tengah persaingan berbagai bisnis/ind...   \n",
       "11297  1. Latar Belakang           \\n                ...   \n",
       "11298  CARA REKON TAGIHAN PSB  TA KE TELKOM \\n \\n1. A...   \n",
       "11299                                             #NAME?   \n",
       "11300                                             #NAME?   \n",
       "\n",
       "                            Job Family               Job Function  \\\n",
       "0      BUSINESS ENABLER/ENTERPRISE MGT              Human Capital   \n",
       "1      BUSINESS ENABLER/ENTERPRISE MGT              Human Capital   \n",
       "2         STRATEGIC PLAN & DEVELOPMENT         Strategic Planning   \n",
       "3                        DIGITAL & ICT          Telecommunication   \n",
       "4                        DIGITAL & ICT          Telecommunication   \n",
       "...                                ...                        ...   \n",
       "11296              COMMERCE & RELATION                      Sales   \n",
       "11297                    DIGITAL & ICT     Information Technology   \n",
       "11298  BUSINESS ENABLER/ENTERPRISE MGT                  Education   \n",
       "11299                    DIGITAL & ICT     Information Technology   \n",
       "11300                    DIGITAL & ICT  DIGITAL PRODUCT & SERVICE   \n",
       "\n",
       "                                         job_role  \\\n",
       "0                5.2.3 Learning &amp; Development   \n",
       "1                5.2.3 Learning &amp; Development   \n",
       "2          2.1.1 Internal &amp; External Analysis   \n",
       "3                    1.1.6 Access Network O&amp;M   \n",
       "4      1.1.2 Access Network Design &amp; Planning   \n",
       "...                                           ...   \n",
       "11296                      3.2.1 Sales Management   \n",
       "11297               1.2.2 IT Solution Development   \n",
       "11298                   5.7.3 Education Operation   \n",
       "11299                         1.2.4 IT Operations   \n",
       "11300       1.3.3 Product &amp;  Ecosystem Design   \n",
       "\n",
       "                               job_role_clean  \n",
       "0                      Learning & Development  \n",
       "1                      Learning & Development  \n",
       "2                Internal & External Analysis  \n",
       "3      Access Network Operation & Maintenance  \n",
       "4            Access Network Design & Planning  \n",
       "...                                       ...  \n",
       "11296                        Sales Management  \n",
       "11297                 IT Solution Development  \n",
       "11298                     Education Operation  \n",
       "11299                           IT Operations  \n",
       "11300              Product & Ecosystem Design  \n",
       "\n",
       "[11301 rows x 9 columns]"
      ]
     },
     "execution_count": 5,
     "metadata": {},
     "output_type": "execute_result"
    }
   ],
   "source": [
    "# Add the Data using pandas\n",
    "Corpus_telkom = pd.read_csv(\"dataset/20210122-Kampiun Digilib Clean-jfam-jfunc.csv\",encoding='latin-1')\n",
    "\n",
    "# Cut data for testing\n",
    "# Corpus_telkom = Corpus_telkom[:300]\n",
    "\n",
    "Corpus_telkom"
   ]
  },
  {
   "cell_type": "code",
   "execution_count": 6,
   "metadata": {
    "scrolled": true
   },
   "outputs": [
    {
     "data": {
      "text/plain": [
       "<AxesSubplot:>"
      ]
     },
     "execution_count": 6,
     "metadata": {},
     "output_type": "execute_result"
    },
    {
     "data": {
      "image/png": "[encoded data removed]",
      "text/plain": [
       "<Figure size 432x288 with 1 Axes>"
      ]
     },
     "metadata": {
      "needs_background": "light"
     },
     "output_type": "display_data"
    }
   ],
   "source": [
    "# Corpus_telkom['Job Family'].value_counts()\n",
    "Corpus_telkom['Job Family'].value_counts().plot(\n",
    "                        kind='bar',\n",
    "                        alpha=0.5,                         \n",
    "                        color='c'\n",
    "                        )"
   ]
  },
  {
   "cell_type": "code",
   "execution_count": 7,
   "metadata": {},
   "outputs": [
    {
     "data": {
      "text/html": [
       "<div>\n",
       "<style scoped>\n",
       "    .dataframe tbody tr th:only-of-type {\n",
       "        vertical-align: middle;\n",
       "    }\n",
       "\n",
       "    .dataframe tbody tr th {\n",
       "        vertical-align: top;\n",
       "    }\n",
       "\n",
       "    .dataframe thead th {\n",
       "        text-align: right;\n",
       "    }\n",
       "</style>\n",
       "<table border=\"1\" class=\"dataframe\">\n",
       "  <thead>\n",
       "    <tr style=\"text-align: right;\">\n",
       "      <th></th>\n",
       "      <th>source</th>\n",
       "      <th>org_id</th>\n",
       "      <th>doc_id</th>\n",
       "      <th>doc_title</th>\n",
       "      <th>doc_description</th>\n",
       "      <th>Job Family</th>\n",
       "      <th>Job Function</th>\n",
       "      <th>job_role</th>\n",
       "      <th>job_role_clean</th>\n",
       "      <th>title_desc</th>\n",
       "    </tr>\n",
       "  </thead>\n",
       "  <tbody>\n",
       "    <tr>\n",
       "      <th>0</th>\n",
       "      <td>Kampiun</td>\n",
       "      <td>NaN</td>\n",
       "      <td>27243</td>\n",
       "      <td>Case Study 1 tahun Magang di Kementerian BUMN</td>\n",
       "      <td>NaN</td>\n",
       "      <td>BUSINESS ENABLER/ENTERPRISE MGT</td>\n",
       "      <td>Human Capital</td>\n",
       "      <td>5.2.3 Learning &amp;amp; Development</td>\n",
       "      <td>Learning &amp; Development</td>\n",
       "      <td>Case Study 1 tahun Magang di Kementerian BUMN</td>\n",
       "    </tr>\n",
       "    <tr>\n",
       "      <th>1</th>\n",
       "      <td>Kampiun</td>\n",
       "      <td>NaN</td>\n",
       "      <td>29134</td>\n",
       "      <td>Case Study 1 tahun Magang di Kementerian BUMN</td>\n",
       "      <td>NaN</td>\n",
       "      <td>BUSINESS ENABLER/ENTERPRISE MGT</td>\n",
       "      <td>Human Capital</td>\n",
       "      <td>5.2.3 Learning &amp;amp; Development</td>\n",
       "      <td>Learning &amp; Development</td>\n",
       "      <td>Case Study 1 tahun Magang di Kementerian BUMN</td>\n",
       "    </tr>\n",
       "    <tr>\n",
       "      <th>2</th>\n",
       "      <td>Kampiun</td>\n",
       "      <td>NaN</td>\n",
       "      <td>28690</td>\n",
       "      <td>ILC : Securing Revenue Witel Riau Daratan 2017</td>\n",
       "      <td>NaN</td>\n",
       "      <td>STRATEGIC PLAN &amp; DEVELOPMENT</td>\n",
       "      <td>Strategic Planning</td>\n",
       "      <td>2.1.1 Internal &amp;amp; External Analysis</td>\n",
       "      <td>Internal &amp; External Analysis</td>\n",
       "      <td>ILC : Securing Revenue Witel Riau Daratan 2017</td>\n",
       "    </tr>\n",
       "    <tr>\n",
       "      <th>3</th>\n",
       "      <td>Kampiun</td>\n",
       "      <td>NaN</td>\n",
       "      <td>33756</td>\n",
       "      <td>SIKAT HABIS FTTH UNSPEC DENGAN MINI OLT OUTDOOR</td>\n",
       "      <td>NaN</td>\n",
       "      <td>DIGITAL &amp; ICT</td>\n",
       "      <td>Telecommunication</td>\n",
       "      <td>1.1.6 Access Network O&amp;amp;M</td>\n",
       "      <td>Access Network Operation &amp; Maintenance</td>\n",
       "      <td>SIKAT HABIS FTTH UNSPEC DENGAN MINI OLT OUTDOOR</td>\n",
       "    </tr>\n",
       "    <tr>\n",
       "      <th>4</th>\n",
       "      <td>Kampiun</td>\n",
       "      <td>NaN</td>\n",
       "      <td>38567</td>\n",
       "      <td>PROSES PENGAJUAN CAPEX FTTH INDIHOME DI WITEL NTB</td>\n",
       "      <td>NaN</td>\n",
       "      <td>DIGITAL &amp; ICT</td>\n",
       "      <td>Telecommunication</td>\n",
       "      <td>1.1.2 Access Network Design &amp;amp; Planning</td>\n",
       "      <td>Access Network Design &amp; Planning</td>\n",
       "      <td>PROSES PENGAJUAN CAPEX FTTH INDIHOME DI WITEL ...</td>\n",
       "    </tr>\n",
       "    <tr>\n",
       "      <th>...</th>\n",
       "      <td>...</td>\n",
       "      <td>...</td>\n",
       "      <td>...</td>\n",
       "      <td>...</td>\n",
       "      <td>...</td>\n",
       "      <td>...</td>\n",
       "      <td>...</td>\n",
       "      <td>...</td>\n",
       "      <td>...</td>\n",
       "      <td>...</td>\n",
       "    </tr>\n",
       "    <tr>\n",
       "      <th>11296</th>\n",
       "      <td>Kampiun</td>\n",
       "      <td>NaN</td>\n",
       "      <td>35659</td>\n",
       "      <td>PENTINGNYA LOYALITAS PELANGGAN</td>\n",
       "      <td>Ditengah-tengah persaingan berbagai bisnis/ind...</td>\n",
       "      <td>COMMERCE &amp; RELATION</td>\n",
       "      <td>Sales</td>\n",
       "      <td>3.2.1 Sales Management</td>\n",
       "      <td>Sales Management</td>\n",
       "      <td>PENTINGNYA LOYALITAS PELANGGAN Ditengah-tengah...</td>\n",
       "    </tr>\n",
       "    <tr>\n",
       "      <th>11297</th>\n",
       "      <td>Kampiun</td>\n",
       "      <td>NaN</td>\n",
       "      <td>38867</td>\n",
       "      <td>Uji Terima Online dalam Proyek Digitalisasi SP...</td>\n",
       "      <td>1. Latar Belakang           \\n                ...</td>\n",
       "      <td>DIGITAL &amp; ICT</td>\n",
       "      <td>Information Technology</td>\n",
       "      <td>1.2.2 IT Solution Development</td>\n",
       "      <td>IT Solution Development</td>\n",
       "      <td>Uji Terima Online dalam Proyek Digitalisasi SP...</td>\n",
       "    </tr>\n",
       "    <tr>\n",
       "      <th>11298</th>\n",
       "      <td>Kampiun</td>\n",
       "      <td>NaN</td>\n",
       "      <td>40529</td>\n",
       "      <td>REKON TAGIHAN PSB  TA TO TELKOM  WITEL PURWOKERTO</td>\n",
       "      <td>CARA REKON TAGIHAN PSB  TA KE TELKOM \\n \\n1. A...</td>\n",
       "      <td>BUSINESS ENABLER/ENTERPRISE MGT</td>\n",
       "      <td>Education</td>\n",
       "      <td>5.7.3 Education Operation</td>\n",
       "      <td>Education Operation</td>\n",
       "      <td>REKON TAGIHAN PSB  TA TO TELKOM  WITEL PURWOKE...</td>\n",
       "    </tr>\n",
       "    <tr>\n",
       "      <th>11299</th>\n",
       "      <td>Kampiun</td>\n",
       "      <td>NaN</td>\n",
       "      <td>39161</td>\n",
       "      <td>TDSCC  (Telkom DIGITAL SOLUTION CARE CENTER) G...</td>\n",
       "      <td>#NAME?</td>\n",
       "      <td>DIGITAL &amp; ICT</td>\n",
       "      <td>Information Technology</td>\n",
       "      <td>1.2.4 IT Operations</td>\n",
       "      <td>IT Operations</td>\n",
       "      <td>TDSCC  (Telkom DIGITAL SOLUTION CARE CENTER) G...</td>\n",
       "    </tr>\n",
       "    <tr>\n",
       "      <th>11300</th>\n",
       "      <td>Kampiun</td>\n",
       "      <td>NaN</td>\n",
       "      <td>25622</td>\n",
       "      <td>Blockchain adoption in order  to Implement Bio...</td>\n",
       "      <td>#NAME?</td>\n",
       "      <td>DIGITAL &amp; ICT</td>\n",
       "      <td>DIGITAL PRODUCT &amp; SERVICE</td>\n",
       "      <td>1.3.3 Product &amp;amp;  Ecosystem Design</td>\n",
       "      <td>Product &amp; Ecosystem Design</td>\n",
       "      <td>Blockchain adoption in order  to Implement Bio...</td>\n",
       "    </tr>\n",
       "  </tbody>\n",
       "</table>\n",
       "<p>11301 rows × 10 columns</p>\n",
       "</div>"
      ],
      "text/plain": [
       "        source  org_id  doc_id  \\\n",
       "0      Kampiun     NaN   27243   \n",
       "1      Kampiun     NaN   29134   \n",
       "2      Kampiun     NaN   28690   \n",
       "3      Kampiun     NaN   33756   \n",
       "4      Kampiun     NaN   38567   \n",
       "...        ...     ...     ...   \n",
       "11296  Kampiun     NaN   35659   \n",
       "11297  Kampiun     NaN   38867   \n",
       "11298  Kampiun     NaN   40529   \n",
       "11299  Kampiun     NaN   39161   \n",
       "11300  Kampiun     NaN   25622   \n",
       "\n",
       "                                               doc_title  \\\n",
       "0          Case Study 1 tahun Magang di Kementerian BUMN   \n",
       "1          Case Study 1 tahun Magang di Kementerian BUMN   \n",
       "2         ILC : Securing Revenue Witel Riau Daratan 2017   \n",
       "3        SIKAT HABIS FTTH UNSPEC DENGAN MINI OLT OUTDOOR   \n",
       "4      PROSES PENGAJUAN CAPEX FTTH INDIHOME DI WITEL NTB   \n",
       "...                                                  ...   \n",
       "11296                     PENTINGNYA LOYALITAS PELANGGAN   \n",
       "11297  Uji Terima Online dalam Proyek Digitalisasi SP...   \n",
       "11298  REKON TAGIHAN PSB  TA TO TELKOM  WITEL PURWOKERTO   \n",
       "11299  TDSCC  (Telkom DIGITAL SOLUTION CARE CENTER) G...   \n",
       "11300  Blockchain adoption in order  to Implement Bio...   \n",
       "\n",
       "                                         doc_description  \\\n",
       "0                                                    NaN   \n",
       "1                                                    NaN   \n",
       "2                                                    NaN   \n",
       "3                                                    NaN   \n",
       "4                                                    NaN   \n",
       "...                                                  ...   \n",
       "11296  Ditengah-tengah persaingan berbagai bisnis/ind...   \n",
       "11297  1. Latar Belakang           \\n                ...   \n",
       "11298  CARA REKON TAGIHAN PSB  TA KE TELKOM \\n \\n1. A...   \n",
       "11299                                             #NAME?   \n",
       "11300                                             #NAME?   \n",
       "\n",
       "                            Job Family               Job Function  \\\n",
       "0      BUSINESS ENABLER/ENTERPRISE MGT              Human Capital   \n",
       "1      BUSINESS ENABLER/ENTERPRISE MGT              Human Capital   \n",
       "2         STRATEGIC PLAN & DEVELOPMENT         Strategic Planning   \n",
       "3                        DIGITAL & ICT          Telecommunication   \n",
       "4                        DIGITAL & ICT          Telecommunication   \n",
       "...                                ...                        ...   \n",
       "11296              COMMERCE & RELATION                      Sales   \n",
       "11297                    DIGITAL & ICT     Information Technology   \n",
       "11298  BUSINESS ENABLER/ENTERPRISE MGT                  Education   \n",
       "11299                    DIGITAL & ICT     Information Technology   \n",
       "11300                    DIGITAL & ICT  DIGITAL PRODUCT & SERVICE   \n",
       "\n",
       "                                         job_role  \\\n",
       "0                5.2.3 Learning &amp; Development   \n",
       "1                5.2.3 Learning &amp; Development   \n",
       "2          2.1.1 Internal &amp; External Analysis   \n",
       "3                    1.1.6 Access Network O&amp;M   \n",
       "4      1.1.2 Access Network Design &amp; Planning   \n",
       "...                                           ...   \n",
       "11296                      3.2.1 Sales Management   \n",
       "11297               1.2.2 IT Solution Development   \n",
       "11298                   5.7.3 Education Operation   \n",
       "11299                         1.2.4 IT Operations   \n",
       "11300       1.3.3 Product &amp;  Ecosystem Design   \n",
       "\n",
       "                               job_role_clean  \\\n",
       "0                      Learning & Development   \n",
       "1                      Learning & Development   \n",
       "2                Internal & External Analysis   \n",
       "3      Access Network Operation & Maintenance   \n",
       "4            Access Network Design & Planning   \n",
       "...                                       ...   \n",
       "11296                        Sales Management   \n",
       "11297                 IT Solution Development   \n",
       "11298                     Education Operation   \n",
       "11299                           IT Operations   \n",
       "11300              Product & Ecosystem Design   \n",
       "\n",
       "                                              title_desc  \n",
       "0         Case Study 1 tahun Magang di Kementerian BUMN   \n",
       "1         Case Study 1 tahun Magang di Kementerian BUMN   \n",
       "2        ILC : Securing Revenue Witel Riau Daratan 2017   \n",
       "3       SIKAT HABIS FTTH UNSPEC DENGAN MINI OLT OUTDOOR   \n",
       "4      PROSES PENGAJUAN CAPEX FTTH INDIHOME DI WITEL ...  \n",
       "...                                                  ...  \n",
       "11296  PENTINGNYA LOYALITAS PELANGGAN Ditengah-tengah...  \n",
       "11297  Uji Terima Online dalam Proyek Digitalisasi SP...  \n",
       "11298  REKON TAGIHAN PSB  TA TO TELKOM  WITEL PURWOKE...  \n",
       "11299  TDSCC  (Telkom DIGITAL SOLUTION CARE CENTER) G...  \n",
       "11300  Blockchain adoption in order  to Implement Bio...  \n",
       "\n",
       "[11301 rows x 10 columns]"
      ]
     },
     "execution_count": 7,
     "metadata": {},
     "output_type": "execute_result"
    }
   ],
   "source": [
    "Corpus_telkom['title_desc'] = Corpus_telkom['doc_title'].fillna('')+\" \"+Corpus_telkom['doc_description'].fillna('')\n",
    "Corpus_telkom"
   ]
  },
  {
   "cell_type": "code",
   "execution_count": 8,
   "metadata": {},
   "outputs": [
    {
     "data": {
      "text/html": [
       "<div>\n",
       "<style scoped>\n",
       "    .dataframe tbody tr th:only-of-type {\n",
       "        vertical-align: middle;\n",
       "    }\n",
       "\n",
       "    .dataframe tbody tr th {\n",
       "        vertical-align: top;\n",
       "    }\n",
       "\n",
       "    .dataframe thead th {\n",
       "        text-align: right;\n",
       "    }\n",
       "</style>\n",
       "<table border=\"1\" class=\"dataframe\">\n",
       "  <thead>\n",
       "    <tr style=\"text-align: right;\">\n",
       "      <th></th>\n",
       "      <th>doc_title</th>\n",
       "      <th>doc_description</th>\n",
       "      <th>Job Family</th>\n",
       "      <th>Job Function</th>\n",
       "      <th>title_desc</th>\n",
       "    </tr>\n",
       "  </thead>\n",
       "  <tbody>\n",
       "    <tr>\n",
       "      <th>0</th>\n",
       "      <td>Case Study 1 tahun Magang di Kementerian BUMN</td>\n",
       "      <td>NaN</td>\n",
       "      <td>BUSINESS ENABLER/ENTERPRISE MGT</td>\n",
       "      <td>Human Capital</td>\n",
       "      <td>Case Study 1 tahun Magang di Kementerian BUMN</td>\n",
       "    </tr>\n",
       "    <tr>\n",
       "      <th>1</th>\n",
       "      <td>Case Study 1 tahun Magang di Kementerian BUMN</td>\n",
       "      <td>NaN</td>\n",
       "      <td>BUSINESS ENABLER/ENTERPRISE MGT</td>\n",
       "      <td>Human Capital</td>\n",
       "      <td>Case Study 1 tahun Magang di Kementerian BUMN</td>\n",
       "    </tr>\n",
       "    <tr>\n",
       "      <th>2</th>\n",
       "      <td>ILC : Securing Revenue Witel Riau Daratan 2017</td>\n",
       "      <td>NaN</td>\n",
       "      <td>STRATEGIC PLAN &amp; DEVELOPMENT</td>\n",
       "      <td>Strategic Planning</td>\n",
       "      <td>ILC : Securing Revenue Witel Riau Daratan 2017</td>\n",
       "    </tr>\n",
       "    <tr>\n",
       "      <th>3</th>\n",
       "      <td>SIKAT HABIS FTTH UNSPEC DENGAN MINI OLT OUTDOOR</td>\n",
       "      <td>NaN</td>\n",
       "      <td>DIGITAL &amp; ICT</td>\n",
       "      <td>Telecommunication</td>\n",
       "      <td>SIKAT HABIS FTTH UNSPEC DENGAN MINI OLT OUTDOOR</td>\n",
       "    </tr>\n",
       "    <tr>\n",
       "      <th>4</th>\n",
       "      <td>PROSES PENGAJUAN CAPEX FTTH INDIHOME DI WITEL NTB</td>\n",
       "      <td>NaN</td>\n",
       "      <td>DIGITAL &amp; ICT</td>\n",
       "      <td>Telecommunication</td>\n",
       "      <td>PROSES PENGAJUAN CAPEX FTTH INDIHOME DI WITEL ...</td>\n",
       "    </tr>\n",
       "    <tr>\n",
       "      <th>...</th>\n",
       "      <td>...</td>\n",
       "      <td>...</td>\n",
       "      <td>...</td>\n",
       "      <td>...</td>\n",
       "      <td>...</td>\n",
       "    </tr>\n",
       "    <tr>\n",
       "      <th>11296</th>\n",
       "      <td>PENTINGNYA LOYALITAS PELANGGAN</td>\n",
       "      <td>Ditengah-tengah persaingan berbagai bisnis/ind...</td>\n",
       "      <td>COMMERCE &amp; RELATION</td>\n",
       "      <td>Sales</td>\n",
       "      <td>PENTINGNYA LOYALITAS PELANGGAN Ditengah-tengah...</td>\n",
       "    </tr>\n",
       "    <tr>\n",
       "      <th>11297</th>\n",
       "      <td>Uji Terima Online dalam Proyek Digitalisasi SP...</td>\n",
       "      <td>1. Latar Belakang           \\n                ...</td>\n",
       "      <td>DIGITAL &amp; ICT</td>\n",
       "      <td>Information Technology</td>\n",
       "      <td>Uji Terima Online dalam Proyek Digitalisasi SP...</td>\n",
       "    </tr>\n",
       "    <tr>\n",
       "      <th>11298</th>\n",
       "      <td>REKON TAGIHAN PSB  TA TO TELKOM  WITEL PURWOKERTO</td>\n",
       "      <td>CARA REKON TAGIHAN PSB  TA KE TELKOM \\n \\n1. A...</td>\n",
       "      <td>BUSINESS ENABLER/ENTERPRISE MGT</td>\n",
       "      <td>Education</td>\n",
       "      <td>REKON TAGIHAN PSB  TA TO TELKOM  WITEL PURWOKE...</td>\n",
       "    </tr>\n",
       "    <tr>\n",
       "      <th>11299</th>\n",
       "      <td>TDSCC  (Telkom DIGITAL SOLUTION CARE CENTER) G...</td>\n",
       "      <td>#NAME?</td>\n",
       "      <td>DIGITAL &amp; ICT</td>\n",
       "      <td>Information Technology</td>\n",
       "      <td>TDSCC  (Telkom DIGITAL SOLUTION CARE CENTER) G...</td>\n",
       "    </tr>\n",
       "    <tr>\n",
       "      <th>11300</th>\n",
       "      <td>Blockchain adoption in order  to Implement Bio...</td>\n",
       "      <td>#NAME?</td>\n",
       "      <td>DIGITAL &amp; ICT</td>\n",
       "      <td>DIGITAL PRODUCT &amp; SERVICE</td>\n",
       "      <td>Blockchain adoption in order  to Implement Bio...</td>\n",
       "    </tr>\n",
       "  </tbody>\n",
       "</table>\n",
       "<p>11301 rows × 5 columns</p>\n",
       "</div>"
      ],
      "text/plain": [
       "                                               doc_title  \\\n",
       "0          Case Study 1 tahun Magang di Kementerian BUMN   \n",
       "1          Case Study 1 tahun Magang di Kementerian BUMN   \n",
       "2         ILC : Securing Revenue Witel Riau Daratan 2017   \n",
       "3        SIKAT HABIS FTTH UNSPEC DENGAN MINI OLT OUTDOOR   \n",
       "4      PROSES PENGAJUAN CAPEX FTTH INDIHOME DI WITEL NTB   \n",
       "...                                                  ...   \n",
       "11296                     PENTINGNYA LOYALITAS PELANGGAN   \n",
       "11297  Uji Terima Online dalam Proyek Digitalisasi SP...   \n",
       "11298  REKON TAGIHAN PSB  TA TO TELKOM  WITEL PURWOKERTO   \n",
       "11299  TDSCC  (Telkom DIGITAL SOLUTION CARE CENTER) G...   \n",
       "11300  Blockchain adoption in order  to Implement Bio...   \n",
       "\n",
       "                                         doc_description  \\\n",
       "0                                                    NaN   \n",
       "1                                                    NaN   \n",
       "2                                                    NaN   \n",
       "3                                                    NaN   \n",
       "4                                                    NaN   \n",
       "...                                                  ...   \n",
       "11296  Ditengah-tengah persaingan berbagai bisnis/ind...   \n",
       "11297  1. Latar Belakang           \\n                ...   \n",
       "11298  CARA REKON TAGIHAN PSB  TA KE TELKOM \\n \\n1. A...   \n",
       "11299                                             #NAME?   \n",
       "11300                                             #NAME?   \n",
       "\n",
       "                            Job Family               Job Function  \\\n",
       "0      BUSINESS ENABLER/ENTERPRISE MGT              Human Capital   \n",
       "1      BUSINESS ENABLER/ENTERPRISE MGT              Human Capital   \n",
       "2         STRATEGIC PLAN & DEVELOPMENT         Strategic Planning   \n",
       "3                        DIGITAL & ICT          Telecommunication   \n",
       "4                        DIGITAL & ICT          Telecommunication   \n",
       "...                                ...                        ...   \n",
       "11296              COMMERCE & RELATION                      Sales   \n",
       "11297                    DIGITAL & ICT     Information Technology   \n",
       "11298  BUSINESS ENABLER/ENTERPRISE MGT                  Education   \n",
       "11299                    DIGITAL & ICT     Information Technology   \n",
       "11300                    DIGITAL & ICT  DIGITAL PRODUCT & SERVICE   \n",
       "\n",
       "                                              title_desc  \n",
       "0         Case Study 1 tahun Magang di Kementerian BUMN   \n",
       "1         Case Study 1 tahun Magang di Kementerian BUMN   \n",
       "2        ILC : Securing Revenue Witel Riau Daratan 2017   \n",
       "3       SIKAT HABIS FTTH UNSPEC DENGAN MINI OLT OUTDOOR   \n",
       "4      PROSES PENGAJUAN CAPEX FTTH INDIHOME DI WITEL ...  \n",
       "...                                                  ...  \n",
       "11296  PENTINGNYA LOYALITAS PELANGGAN Ditengah-tengah...  \n",
       "11297  Uji Terima Online dalam Proyek Digitalisasi SP...  \n",
       "11298  REKON TAGIHAN PSB  TA TO TELKOM  WITEL PURWOKE...  \n",
       "11299  TDSCC  (Telkom DIGITAL SOLUTION CARE CENTER) G...  \n",
       "11300  Blockchain adoption in order  to Implement Bio...  \n",
       "\n",
       "[11301 rows x 5 columns]"
      ]
     },
     "execution_count": 8,
     "metadata": {},
     "output_type": "execute_result"
    }
   ],
   "source": [
    "Corpus_telkom.drop([\n",
    "    'source', 'org_id', 'doc_id', 'job_role','job_role_clean'\n",
    "], axis=1, inplace=True)\n",
    "Corpus_telkom"
   ]
  },
  {
   "cell_type": "code",
   "execution_count": 9,
   "metadata": {},
   "outputs": [
    {
     "data": {
      "text/html": [
       "<div>\n",
       "<style scoped>\n",
       "    .dataframe tbody tr th:only-of-type {\n",
       "        vertical-align: middle;\n",
       "    }\n",
       "\n",
       "    .dataframe tbody tr th {\n",
       "        vertical-align: top;\n",
       "    }\n",
       "\n",
       "    .dataframe thead th {\n",
       "        text-align: right;\n",
       "    }\n",
       "</style>\n",
       "<table border=\"1\" class=\"dataframe\">\n",
       "  <thead>\n",
       "    <tr style=\"text-align: right;\">\n",
       "      <th></th>\n",
       "      <th>doc_title</th>\n",
       "      <th>doc_description</th>\n",
       "      <th>Job Family</th>\n",
       "      <th>Job Function</th>\n",
       "      <th>title_desc</th>\n",
       "    </tr>\n",
       "  </thead>\n",
       "  <tbody>\n",
       "    <tr>\n",
       "      <th>0</th>\n",
       "      <td>Case Study 1 tahun Magang di Kementerian BUMN</td>\n",
       "      <td>NaN</td>\n",
       "      <td>BUSINESS ENABLER/ENTERPRISE MGT</td>\n",
       "      <td>Human Capital</td>\n",
       "      <td>Case Study 1 tahun Magang di Kementerian BUMN</td>\n",
       "    </tr>\n",
       "    <tr>\n",
       "      <th>1</th>\n",
       "      <td>Case Study 1 tahun Magang di Kementerian BUMN</td>\n",
       "      <td>NaN</td>\n",
       "      <td>BUSINESS ENABLER/ENTERPRISE MGT</td>\n",
       "      <td>Human Capital</td>\n",
       "      <td>Case Study 1 tahun Magang di Kementerian BUMN</td>\n",
       "    </tr>\n",
       "    <tr>\n",
       "      <th>2</th>\n",
       "      <td>ILC : Securing Revenue Witel Riau Daratan 2017</td>\n",
       "      <td>NaN</td>\n",
       "      <td>STRATEGIC PLAN &amp; DEVELOPMENT</td>\n",
       "      <td>Strategic Planning</td>\n",
       "      <td>ILC : Securing Revenue Witel Riau Daratan 2017</td>\n",
       "    </tr>\n",
       "    <tr>\n",
       "      <th>3</th>\n",
       "      <td>SIKAT HABIS FTTH UNSPEC DENGAN MINI OLT OUTDOOR</td>\n",
       "      <td>NaN</td>\n",
       "      <td>DIGITAL &amp; ICT</td>\n",
       "      <td>Telecommunication</td>\n",
       "      <td>SIKAT HABIS FTTH UNSPEC DENGAN MINI OLT OUTDOOR</td>\n",
       "    </tr>\n",
       "    <tr>\n",
       "      <th>4</th>\n",
       "      <td>PROSES PENGAJUAN CAPEX FTTH INDIHOME DI WITEL NTB</td>\n",
       "      <td>NaN</td>\n",
       "      <td>DIGITAL &amp; ICT</td>\n",
       "      <td>Telecommunication</td>\n",
       "      <td>PROSES PENGAJUAN CAPEX FTTH INDIHOME DI WITEL ...</td>\n",
       "    </tr>\n",
       "    <tr>\n",
       "      <th>...</th>\n",
       "      <td>...</td>\n",
       "      <td>...</td>\n",
       "      <td>...</td>\n",
       "      <td>...</td>\n",
       "      <td>...</td>\n",
       "    </tr>\n",
       "    <tr>\n",
       "      <th>11296</th>\n",
       "      <td>PENTINGNYA LOYALITAS PELANGGAN</td>\n",
       "      <td>Ditengah-tengah persaingan berbagai bisnis/ind...</td>\n",
       "      <td>COMMERCE &amp; RELATION</td>\n",
       "      <td>Sales</td>\n",
       "      <td>PENTINGNYA LOYALITAS PELANGGAN Ditengah-tengah...</td>\n",
       "    </tr>\n",
       "    <tr>\n",
       "      <th>11297</th>\n",
       "      <td>Uji Terima Online dalam Proyek Digitalisasi SP...</td>\n",
       "      <td>1. Latar Belakang           \\n                ...</td>\n",
       "      <td>DIGITAL &amp; ICT</td>\n",
       "      <td>Information Technology</td>\n",
       "      <td>Uji Terima Online dalam Proyek Digitalisasi SP...</td>\n",
       "    </tr>\n",
       "    <tr>\n",
       "      <th>11298</th>\n",
       "      <td>REKON TAGIHAN PSB  TA TO TELKOM  WITEL PURWOKERTO</td>\n",
       "      <td>CARA REKON TAGIHAN PSB  TA KE TELKOM \\n \\n1. A...</td>\n",
       "      <td>BUSINESS ENABLER/ENTERPRISE MGT</td>\n",
       "      <td>Education</td>\n",
       "      <td>REKON TAGIHAN PSB  TA TO TELKOM  WITEL PURWOKE...</td>\n",
       "    </tr>\n",
       "    <tr>\n",
       "      <th>11299</th>\n",
       "      <td>TDSCC  (Telkom DIGITAL SOLUTION CARE CENTER) G...</td>\n",
       "      <td>#NAME?</td>\n",
       "      <td>DIGITAL &amp; ICT</td>\n",
       "      <td>Information Technology</td>\n",
       "      <td>TDSCC  (Telkom DIGITAL SOLUTION CARE CENTER) G...</td>\n",
       "    </tr>\n",
       "    <tr>\n",
       "      <th>11300</th>\n",
       "      <td>Blockchain adoption in order  to Implement Bio...</td>\n",
       "      <td>#NAME?</td>\n",
       "      <td>DIGITAL &amp; ICT</td>\n",
       "      <td>DIGITAL PRODUCT &amp; SERVICE</td>\n",
       "      <td>Blockchain adoption in order  to Implement Bio...</td>\n",
       "    </tr>\n",
       "  </tbody>\n",
       "</table>\n",
       "<p>11301 rows × 5 columns</p>\n",
       "</div>"
      ],
      "text/plain": [
       "                                               doc_title  \\\n",
       "0          Case Study 1 tahun Magang di Kementerian BUMN   \n",
       "1          Case Study 1 tahun Magang di Kementerian BUMN   \n",
       "2         ILC : Securing Revenue Witel Riau Daratan 2017   \n",
       "3        SIKAT HABIS FTTH UNSPEC DENGAN MINI OLT OUTDOOR   \n",
       "4      PROSES PENGAJUAN CAPEX FTTH INDIHOME DI WITEL NTB   \n",
       "...                                                  ...   \n",
       "11296                     PENTINGNYA LOYALITAS PELANGGAN   \n",
       "11297  Uji Terima Online dalam Proyek Digitalisasi SP...   \n",
       "11298  REKON TAGIHAN PSB  TA TO TELKOM  WITEL PURWOKERTO   \n",
       "11299  TDSCC  (Telkom DIGITAL SOLUTION CARE CENTER) G...   \n",
       "11300  Blockchain adoption in order  to Implement Bio...   \n",
       "\n",
       "                                         doc_description  \\\n",
       "0                                                    NaN   \n",
       "1                                                    NaN   \n",
       "2                                                    NaN   \n",
       "3                                                    NaN   \n",
       "4                                                    NaN   \n",
       "...                                                  ...   \n",
       "11296  Ditengah-tengah persaingan berbagai bisnis/ind...   \n",
       "11297  1. Latar Belakang           \\n                ...   \n",
       "11298  CARA REKON TAGIHAN PSB  TA KE TELKOM \\n \\n1. A...   \n",
       "11299                                             #NAME?   \n",
       "11300                                             #NAME?   \n",
       "\n",
       "                            Job Family               Job Function  \\\n",
       "0      BUSINESS ENABLER/ENTERPRISE MGT              Human Capital   \n",
       "1      BUSINESS ENABLER/ENTERPRISE MGT              Human Capital   \n",
       "2         STRATEGIC PLAN & DEVELOPMENT         Strategic Planning   \n",
       "3                        DIGITAL & ICT          Telecommunication   \n",
       "4                        DIGITAL & ICT          Telecommunication   \n",
       "...                                ...                        ...   \n",
       "11296              COMMERCE & RELATION                      Sales   \n",
       "11297                    DIGITAL & ICT     Information Technology   \n",
       "11298  BUSINESS ENABLER/ENTERPRISE MGT                  Education   \n",
       "11299                    DIGITAL & ICT     Information Technology   \n",
       "11300                    DIGITAL & ICT  DIGITAL PRODUCT & SERVICE   \n",
       "\n",
       "                                              title_desc  \n",
       "0         Case Study 1 tahun Magang di Kementerian BUMN   \n",
       "1         Case Study 1 tahun Magang di Kementerian BUMN   \n",
       "2        ILC : Securing Revenue Witel Riau Daratan 2017   \n",
       "3       SIKAT HABIS FTTH UNSPEC DENGAN MINI OLT OUTDOOR   \n",
       "4      PROSES PENGAJUAN CAPEX FTTH INDIHOME DI WITEL ...  \n",
       "...                                                  ...  \n",
       "11296  PENTINGNYA LOYALITAS PELANGGAN Ditengah-tengah...  \n",
       "11297  Uji Terima Online dalam Proyek Digitalisasi SP...  \n",
       "11298  REKON TAGIHAN PSB  TA TO TELKOM  WITEL PURWOKE...  \n",
       "11299  TDSCC  (Telkom DIGITAL SOLUTION CARE CENTER) G...  \n",
       "11300  Blockchain adoption in order  to Implement Bio...  \n",
       "\n",
       "[11301 rows x 5 columns]"
      ]
     },
     "execution_count": 9,
     "metadata": {},
     "output_type": "execute_result"
    }
   ],
   "source": [
    "Corpus_telkom\n",
    "# Corpus_telkom.loc[Corpus_telkom['title_desc'].str.contains('yg')]\n",
    "# Corpus_telkom.loc[Corpus_telkom['doc_title'].str.contains('yg')]\n",
    "# Corpus_telkom['title_desc'][536]"
   ]
  },
  {
   "cell_type": "markdown",
   "metadata": {},
   "source": [
    "# Data Preprocessing"
   ]
  },
  {
   "cell_type": "code",
   "execution_count": 10,
   "metadata": {},
   "outputs": [],
   "source": [
    "# Corpus_telkom['title_desc'] = Corpus_telkom['title_desc'].str.replace('yg', '')"
   ]
  },
  {
   "cell_type": "code",
   "execution_count": 11,
   "metadata": {},
   "outputs": [],
   "source": [
    "# ubah semua jadi lower case\n",
    "Corpus_telkom['title_desc'] = [str(entry).lower() for entry in Corpus_telkom['title_desc']]"
   ]
  },
  {
   "cell_type": "code",
   "execution_count": 12,
   "metadata": {},
   "outputs": [],
   "source": [
    "# Tokenization : kalimat dipecah menjadi perkata\n",
    "Corpus_telkom['title_desc']= [word_tokenize(entry) for entry in Corpus_telkom['title_desc']]"
   ]
  },
  {
   "cell_type": "code",
   "execution_count": 13,
   "metadata": {},
   "outputs": [],
   "source": [
    "# fungsi lemmatizer perlu pos tags untuk mengetahui jenis kata (noun, verb atau adjective)\n",
    "tag_map = defaultdict(lambda : wn.NOUN)\n",
    "tag_map['J'] = wn.ADJ\n",
    "tag_map['V'] = wn.VERB\n",
    "tag_map['R'] = wn.ADV"
   ]
  },
  {
   "cell_type": "code",
   "execution_count": 14,
   "metadata": {},
   "outputs": [],
   "source": [
    "# stopwords, stemming and storing\n",
    "\n",
    "# create stemmer\n",
    "factory = StemmerFactory()\n",
    "stemmer = factory.create_stemmer()\n",
    "\n",
    "\n",
    "for index, entry in enumerate(Corpus_telkom['title_desc']):    \n",
    "    Final_words = []\n",
    "    # inisialisasi WordNetLemmatizer(): 'rocks' -> 'rock' ; better -> good\n",
    "    word_Lemmatized = WordNetLemmatizer()    \n",
    "    for word, tag in pos_tag(entry):\n",
    "        # remove stopwords dan hanya alfabet\n",
    "        if word not in stopwords.words('indonesian') and word not in stopwords.words('english') and word.isalpha():\n",
    "            word_Final = word_Lemmatized.lemmatize(word,tag_map[tag[0]])\n",
    "            word_Final = stemmer.stem(word_Final)\n",
    "            Final_words.append(word_Final)    \n",
    "    Corpus_telkom.loc[index,'title_desc_final'] = str(Final_words)"
   ]
  },
  {
   "cell_type": "code",
   "execution_count": 15,
   "metadata": {},
   "outputs": [],
   "source": [
    "# Corpus_telkom['title_desc_final']\n",
    "# Corpus_telkom.loc[Corpus_telkom['title_desc_final'].str.contains('pt')]\n",
    "# Corpus_telkom['title_desc_final'][1927]"
   ]
  },
  {
   "cell_type": "code",
   "execution_count": 16,
   "metadata": {},
   "outputs": [],
   "source": [
    "# remove singkatan\n",
    "Corpus_telkom['title_desc_final'] = Corpus_telkom['title_desc_final'].str.replace('pt', '')"
   ]
  },
  {
   "cell_type": "markdown",
   "metadata": {},
   "source": [
    "# Model Definition & Training"
   ]
  },
  {
   "cell_type": "code",
   "execution_count": 35,
   "metadata": {},
   "outputs": [],
   "source": [
    "Train_X, Test_X, Train_Y, Test_Y = model_selection.train_test_split(Corpus_telkom['title_desc_final'], Corpus_telkom['Job Family'], test_size=0.2, random_state=1)\n",
    "# Train_X, Test_X, Train_Y, Test_Y = model_selection.train_test_split(Corpus_telkom[['doc_title','doc_description']].astype(str), Corpus_telkom['Job Family'], test_size=0.3, random_state=4)\n",
    "\n",
    "# Target label diubah jadi angka\n",
    "Encoder = LabelEncoder()\n",
    "Train_Y = Encoder.fit_transform(Train_Y)\n",
    "Test_Y = Encoder.fit_transform(Test_Y)"
   ]
  },
  {
   "cell_type": "code",
   "execution_count": 36,
   "metadata": {},
   "outputs": [],
   "source": [
    "# kata input menjadi vector dgn TFIDF: mencari tingkat kepentingan sebuah kata dalam dokumen dan dibobotkan\n",
    "Tfidf_vect = TfidfVectorizer(max_features=5000)\n",
    "Tfidf_vect.fit(Train_X)\n",
    "\n",
    "Train_X_Tfidf = Tfidf_vect.transform(Train_X)\n",
    "Test_X_Tfidf = Tfidf_vect.transform(Test_X)\n"
   ]
  },
  {
   "cell_type": "code",
   "execution_count": 37,
   "metadata": {},
   "outputs": [
    {
     "data": {
      "text/plain": [
       "((9040,), (2261,), (9040,), (2261,))"
      ]
     },
     "execution_count": 37,
     "metadata": {},
     "output_type": "execute_result"
    }
   ],
   "source": [
    "(Train_X.shape, Test_X.shape, Train_Y.shape, Test_Y.shape )"
   ]
  },
  {
   "cell_type": "code",
   "execution_count": 38,
   "metadata": {},
   "outputs": [
    {
     "name": "stdout",
     "output_type": "stream",
     "text": [
      "Naive Bayes Accuracy Score ->  62.5829279080053\n",
      "SVM Accuracy Score ->  65.76735957540912\n",
      "Random Forest Accuracy Score ->  66.29809818664307\n",
      "Logistic Regression Accuracy Score ->  65.81158779301194\n",
      "KNN Accuracy Score ->  61.60990712074303\n",
      "Decision Tree Accuracy Score ->  55.24104378593543\n"
     ]
    }
   ],
   "source": [
    "# Naive Bayes\n",
    "Naive = naive_bayes.MultinomialNB()\n",
    "Naive.fit(Train_X_Tfidf,Train_Y)\n",
    "predictions_NB = Naive.predict(Test_X_Tfidf)\n",
    "print(\"Naive Bayes Accuracy Score -> \",accuracy_score(predictions_NB, Test_Y)*100)\n",
    "\n",
    "\n",
    "#SVM\n",
    "SVM = svm.SVC(C=1.0, kernel='linear', degree=3, gamma='auto')\n",
    "SVM.fit(Train_X_Tfidf,Train_Y)\n",
    "predictions_SVM = SVM.predict(Test_X_Tfidf)\n",
    "print(\"SVM Accuracy Score -> \",accuracy_score(predictions_SVM, Test_Y)*100)\n",
    "\n",
    "\n",
    "#Random Forest\n",
    "clf=RandomForestClassifier(n_estimators=98) #0.3290579389650597:98\n",
    "clf.fit(Train_X_Tfidf,Train_Y)\n",
    "predictions_clf = clf.predict(Test_X_Tfidf)\n",
    "print(\"Random Forest Accuracy Score -> \",accuracy_score(predictions_clf, Test_Y)*100)\n",
    "\n",
    "\n",
    "# Logistic Regression\n",
    "logReg = LogisticRegression(solver='liblinear', random_state=0)\n",
    "logReg.fit(Train_X_Tfidf,Train_Y)\n",
    "predictions_logReg = logReg.predict(Test_X_Tfidf)\n",
    "print(\"Logistic Regression Accuracy Score -> \", accuracy_score(predictions_logReg, Test_Y)*100)\n",
    "\n",
    "\n",
    "# KNN\n",
    "knn = KNeighborsClassifier(n_neighbors=61) #error 0.38390092879256965\n",
    "knn.fit(Train_X_Tfidf,Train_Y)\n",
    "predictions_knn = knn.predict(Test_X_Tfidf)\n",
    "print(\"KNN Accuracy Score -> \", accuracy_score(predictions_knn, Test_Y)*100)\n",
    "\n",
    "# Decision Tree\n",
    "dct = DecisionTreeClassifier()\n",
    "dct = dct.fit(Train_X_Tfidf,Train_Y)\n",
    "predictions_dct = dct.predict(Test_X_Tfidf)\n",
    "print(\"Decision Tree Accuracy Score -> \", accuracy_score(predictions_dct, Test_Y)*100)\n",
    "\n"
   ]
  },
  {
   "cell_type": "markdown",
   "metadata": {},
   "source": [
    "# Model Evaluation"
   ]
  },
  {
   "cell_type": "code",
   "execution_count": 39,
   "metadata": {},
   "outputs": [
    {
     "data": {
      "text/plain": [
       "Text(0, 0.5, 'Error mean')"
      ]
     },
     "execution_count": 39,
     "metadata": {},
     "output_type": "execute_result"
    },
    {
     "data": {
      "image/png": "[encoded data removed]",
      "text/plain": [
       "<Figure size 1080x720 with 1 Axes>"
      ]
     },
     "metadata": {
      "needs_background": "light"
     },
     "output_type": "display_data"
    }
   ],
   "source": [
    "# find minimize error for Highest Score Algorithm\n",
    "error = []\n",
    "\n",
    "# Calculating error for K values between 1 and 40\n",
    "for i in range(1, 100):  \n",
    "    clf=RandomForestClassifier(n_estimators=i)\n",
    "    clf.fit(Train_X_Tfidf,Train_Y)\n",
    "    predictions_clf = clf.predict(Test_X_Tfidf)\n",
    "    error.append(np.mean(predictions_clf != Test_Y))    \n",
    "    \n",
    "plt.figure(figsize=(15, 10))  \n",
    "plt.plot(range(1, 100), error, color='red', linestyle='dashed', marker='o',  \n",
    "         markerfacecolor='blue', markersize=10)\n",
    "plt.title('Error Rate K')  \n",
    "plt.xlabel('K')  \n",
    "plt.ylabel('Error mean')"
   ]
  },
  {
   "cell_type": "code",
   "execution_count": 40,
   "metadata": {},
   "outputs": [
    {
     "name": "stdout",
     "output_type": "stream",
     "text": [
      "Random Forest Accuracy Score ->  66.38655462184873\n",
      "Random Forest Error ->  33.61344537815126\n"
     ]
    }
   ],
   "source": [
    "#Random Forest\n",
    "clf=RandomForestClassifier(n_estimators=98)\n",
    "clf.fit(Train_X_Tfidf,Train_Y)\n",
    "predictions_clf = clf.predict(Test_X_Tfidf)\n",
    "print(\"Random Forest Accuracy Score -> \",accuracy_score(predictions_clf, Test_Y)*100)\n",
    "print(\"Random Forest Error -> \",(np.mean(predictions_clf != Test_Y))*100) \n",
    "\n",
    "# 0.34188412206988056: 90\n",
    "# 0.32994250331711633: 100\n",
    "# 0.3290579389650597:98"
   ]
  },
  {
   "cell_type": "code",
   "execution_count": 41,
   "metadata": {},
   "outputs": [
    {
     "data": {
      "text/plain": [
       "array([0, 1, 2, 3, 4])"
      ]
     },
     "execution_count": 41,
     "metadata": {},
     "output_type": "execute_result"
    }
   ],
   "source": [
    "clf.classes_"
   ]
  },
  {
   "cell_type": "markdown",
   "metadata": {},
   "source": [
    "# Model Inference"
   ]
  },
  {
   "cell_type": "code",
   "execution_count": 42,
   "metadata": {},
   "outputs": [
    {
     "data": {
      "text/plain": [
       "array(['BUSINESS ENABLER/ENTERPRISE MGT'], dtype=object)"
      ]
     },
     "execution_count": 42,
     "metadata": {},
     "output_type": "execute_result"
    }
   ],
   "source": [
    "Encoder.inverse_transform(clf.predict(Tfidf_vect.transform(['ini adalah course terkait human capital'])))"
   ]
  },
  {
   "cell_type": "code",
   "execution_count": 43,
   "metadata": {},
   "outputs": [
    {
     "data": {
      "text/plain": [
       "array(['COMMERCE & RELATION'], dtype=object)"
      ]
     },
     "execution_count": 43,
     "metadata": {},
     "output_type": "execute_result"
    }
   ],
   "source": [
    "Encoder.inverse_transform(clf.predict(Tfidf_vect.transform(['ini adalah course terkait Digital marketing'])))"
   ]
  },
  {
   "cell_type": "code",
   "execution_count": 44,
   "metadata": {},
   "outputs": [
    {
     "data": {
      "text/plain": [
       "array(['DIGITAL & ICT'], dtype=object)"
      ]
     },
     "execution_count": 44,
     "metadata": {},
     "output_type": "execute_result"
    }
   ],
   "source": [
    "Encoder.inverse_transform(clf.predict(Tfidf_vect.transform(['ini adalah course terkait Digital teknologi'])))"
   ]
  },
  {
   "cell_type": "markdown",
   "metadata": {},
   "source": [
    "# Model Save & Reload"
   ]
  },
  {
   "cell_type": "code",
   "execution_count": 45,
   "metadata": {},
   "outputs": [],
   "source": [
    "# pickle.dump(clf, open('rfclassifier_jfam-v03.pkl','wb'))"
   ]
  },
  {
   "cell_type": "code",
   "execution_count": 46,
   "metadata": {},
   "outputs": [],
   "source": [
    "pickle.dump(Tfidf_vect, open('Tfidf_vect.pkl','wb'))"
   ]
  },
  {
   "cell_type": "code",
   "execution_count": 47,
   "metadata": {},
   "outputs": [],
   "source": [
    "pickle.dump(Encoder, open('Encoder.pkl','wb'))"
   ]
  },
  {
   "cell_type": "code",
   "execution_count": 48,
   "metadata": {},
   "outputs": [],
   "source": [
    "load_rfclassifier_jfam = pickle.load(open('rfclassifier_jfam-v03.pkl', 'rb'))"
   ]
  },
  {
   "cell_type": "code",
   "execution_count": 49,
   "metadata": {},
   "outputs": [
    {
     "data": {
      "text/plain": [
       "array(['DIGITAL & ICT'], dtype=object)"
      ]
     },
     "execution_count": 49,
     "metadata": {},
     "output_type": "execute_result"
    }
   ],
   "source": [
    "Encoder.inverse_transform(load_rfclassifier_jfam.predict(Tfidf_vect.transform(['training'])))"
   ]
  },
  {
   "cell_type": "code",
   "execution_count": 50,
   "metadata": {},
   "outputs": [
    {
     "name": "stdout",
     "output_type": "stream",
     "text": [
      "Loaded Random Forest Accuracy Score  ->  65.63467492260062\n",
      "Loaded Random Forest Error ->  34.36532507739938\n"
     ]
    }
   ],
   "source": [
    "predictions_clf = load_rfclassifier_jfam.predict(Test_X_Tfidf)\n",
    "print(\"Loaded Random Forest Accuracy Score  -> \",accuracy_score(predictions_clf, Test_Y)*100)\n",
    "print(\"Loaded Random Forest Error -> \",(np.mean(predictions_clf != Test_Y))*100) "
   ]
  },
  {
   "cell_type": "markdown",
   "metadata": {},
   "source": [
    "# Summary\n",
    "Hasil prediksi tertinggi diperoleh dengan algoritma Random Forest (66%), sehingga tujuan final project untuk melakukan klasifikasi dengan fitur title dan deskripsi course sudah tercapai. Untuk pengembangan selanjutnya, data fitur judul course dan desckripsi masih perlu ditambahkan, khususnya pada label 'Risk & Compliance' karena jumlah data tidak seimbang dengan label lainnya, dan juga pre-processing lanjutan perlu dilakukan dengan dukungan library NLP versi bahasa Indonesia agar dapat lebih meningkatkan akurasi."
   ]
  },
  {
   "cell_type": "markdown",
   "metadata": {},
   "source": [
    "# Notes Accuracy"
   ]
  },
  {
   "cell_type": "code",
   "execution_count": 51,
   "metadata": {},
   "outputs": [],
   "source": [
    "# Naive Bayes Accuracy Score ->  63.37903582485625\n",
    "# SVM Accuracy Score ->  65.54621848739495\n",
    "# Random Forest Accuracy Score ->  65.28084918177798\n",
    "# Logistic Regression Accuracy Score ->  65.4577620521893\n",
    "# Decision Tree Accuracy Score ->  54.79876160990712"
   ]
  }
 ],
 "metadata": {
  "kernelspec": {
   "display_name": "Python 3",
   "language": "python",
   "name": "python3"
  },
  "language_info": {
   "codemirror_mode": {
    "name": "ipython",
    "version": 3
   },
   "file_extension": ".py",
   "mimetype": "text/x-python",
   "name": "python",
   "nbconvert_exporter": "python",
   "pygments_lexer": "ipython3",
   "version": "3.8.7"
  }
 },
 "nbformat": 4,
 "nbformat_minor": 4
}
