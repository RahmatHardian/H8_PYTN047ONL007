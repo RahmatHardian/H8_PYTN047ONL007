{
 "cells": [
  {
   "cell_type": "code",
   "execution_count": 2,
   "metadata": {},
   "outputs": [],
   "source": [
    "import numpy as np\n",
    "import pandas as pd"
   ]
  },
  {
   "cell_type": "code",
   "execution_count": 3,
   "metadata": {},
   "outputs": [],
   "source": [
    "df = pd.read_csv('dataset/nbaallelo.csv', encoding='utf-8')"
   ]
  },
  {
   "cell_type": "code",
   "execution_count": 4,
   "metadata": {},
   "outputs": [
    {
     "data": {
      "text/plain": [
       "126314"
      ]
     },
     "execution_count": 4,
     "metadata": {},
     "output_type": "execute_result"
    }
   ],
   "source": [
    "len(df)"
   ]
  },
  {
   "cell_type": "code",
   "execution_count": 5,
   "metadata": {},
   "outputs": [
    {
     "data": {
      "text/plain": [
       "(126314, 23)"
      ]
     },
     "execution_count": 5,
     "metadata": {},
     "output_type": "execute_result"
    }
   ],
   "source": [
    "df.shape"
   ]
  },
  {
   "cell_type": "code",
   "execution_count": 6,
   "metadata": {},
   "outputs": [
    {
     "data": {
      "text/html": [
       "<div>\n",
       "<style scoped>\n",
       "    .dataframe tbody tr th:only-of-type {\n",
       "        vertical-align: middle;\n",
       "    }\n",
       "\n",
       "    .dataframe tbody tr th {\n",
       "        vertical-align: top;\n",
       "    }\n",
       "\n",
       "    .dataframe thead th {\n",
       "        text-align: right;\n",
       "    }\n",
       "</style>\n",
       "<table border=\"1\" class=\"dataframe\">\n",
       "  <thead>\n",
       "    <tr style=\"text-align: right;\">\n",
       "      <th></th>\n",
       "      <th>gameorder</th>\n",
       "      <th>game_id</th>\n",
       "      <th>lg_id</th>\n",
       "      <th>_iscopy</th>\n",
       "      <th>year_id</th>\n",
       "      <th>date_game</th>\n",
       "      <th>seasongame</th>\n",
       "      <th>is_playoffs</th>\n",
       "      <th>team_id</th>\n",
       "      <th>fran_id</th>\n",
       "      <th>pts</th>\n",
       "      <th>elo_i</th>\n",
       "      <th>elo_n</th>\n",
       "      <th>win_equiv</th>\n",
       "      <th>opp_id</th>\n",
       "      <th>opp_fran</th>\n",
       "      <th>opp_pts</th>\n",
       "      <th>opp_elo_i</th>\n",
       "      <th>opp_elo_n</th>\n",
       "      <th>game_location</th>\n",
       "      <th>game_result</th>\n",
       "      <th>forecast</th>\n",
       "      <th>notes</th>\n",
       "    </tr>\n",
       "  </thead>\n",
       "  <tbody>\n",
       "    <tr>\n",
       "      <th>0</th>\n",
       "      <td>1</td>\n",
       "      <td>194611010TRH</td>\n",
       "      <td>NBA</td>\n",
       "      <td>0</td>\n",
       "      <td>1947</td>\n",
       "      <td>11/1/1946</td>\n",
       "      <td>1</td>\n",
       "      <td>0</td>\n",
       "      <td>TRH</td>\n",
       "      <td>Huskies</td>\n",
       "      <td>66</td>\n",
       "      <td>1300.0000</td>\n",
       "      <td>1293.2767</td>\n",
       "      <td>40.294830</td>\n",
       "      <td>NYK</td>\n",
       "      <td>Knicks</td>\n",
       "      <td>68</td>\n",
       "      <td>1300.0000</td>\n",
       "      <td>1306.7233</td>\n",
       "      <td>H</td>\n",
       "      <td>L</td>\n",
       "      <td>0.640065</td>\n",
       "      <td>NaN</td>\n",
       "    </tr>\n",
       "    <tr>\n",
       "      <th>1</th>\n",
       "      <td>1</td>\n",
       "      <td>194611010TRH</td>\n",
       "      <td>NBA</td>\n",
       "      <td>1</td>\n",
       "      <td>1947</td>\n",
       "      <td>11/1/1946</td>\n",
       "      <td>1</td>\n",
       "      <td>0</td>\n",
       "      <td>NYK</td>\n",
       "      <td>Knicks</td>\n",
       "      <td>68</td>\n",
       "      <td>1300.0000</td>\n",
       "      <td>1306.7233</td>\n",
       "      <td>41.705170</td>\n",
       "      <td>TRH</td>\n",
       "      <td>Huskies</td>\n",
       "      <td>66</td>\n",
       "      <td>1300.0000</td>\n",
       "      <td>1293.2767</td>\n",
       "      <td>A</td>\n",
       "      <td>W</td>\n",
       "      <td>0.359935</td>\n",
       "      <td>NaN</td>\n",
       "    </tr>\n",
       "    <tr>\n",
       "      <th>2</th>\n",
       "      <td>2</td>\n",
       "      <td>194611020CHS</td>\n",
       "      <td>NBA</td>\n",
       "      <td>0</td>\n",
       "      <td>1947</td>\n",
       "      <td>11/2/1946</td>\n",
       "      <td>1</td>\n",
       "      <td>0</td>\n",
       "      <td>CHS</td>\n",
       "      <td>Stags</td>\n",
       "      <td>63</td>\n",
       "      <td>1300.0000</td>\n",
       "      <td>1309.6521</td>\n",
       "      <td>42.012257</td>\n",
       "      <td>NYK</td>\n",
       "      <td>Knicks</td>\n",
       "      <td>47</td>\n",
       "      <td>1306.7233</td>\n",
       "      <td>1297.0712</td>\n",
       "      <td>H</td>\n",
       "      <td>W</td>\n",
       "      <td>0.631101</td>\n",
       "      <td>NaN</td>\n",
       "    </tr>\n",
       "    <tr>\n",
       "      <th>3</th>\n",
       "      <td>2</td>\n",
       "      <td>194611020CHS</td>\n",
       "      <td>NBA</td>\n",
       "      <td>1</td>\n",
       "      <td>1947</td>\n",
       "      <td>11/2/1946</td>\n",
       "      <td>2</td>\n",
       "      <td>0</td>\n",
       "      <td>NYK</td>\n",
       "      <td>Knicks</td>\n",
       "      <td>47</td>\n",
       "      <td>1306.7233</td>\n",
       "      <td>1297.0712</td>\n",
       "      <td>40.692783</td>\n",
       "      <td>CHS</td>\n",
       "      <td>Stags</td>\n",
       "      <td>63</td>\n",
       "      <td>1300.0000</td>\n",
       "      <td>1309.6521</td>\n",
       "      <td>A</td>\n",
       "      <td>L</td>\n",
       "      <td>0.368899</td>\n",
       "      <td>NaN</td>\n",
       "    </tr>\n",
       "    <tr>\n",
       "      <th>4</th>\n",
       "      <td>3</td>\n",
       "      <td>194611020DTF</td>\n",
       "      <td>NBA</td>\n",
       "      <td>0</td>\n",
       "      <td>1947</td>\n",
       "      <td>11/2/1946</td>\n",
       "      <td>1</td>\n",
       "      <td>0</td>\n",
       "      <td>DTF</td>\n",
       "      <td>Falcons</td>\n",
       "      <td>33</td>\n",
       "      <td>1300.0000</td>\n",
       "      <td>1279.6189</td>\n",
       "      <td>38.864048</td>\n",
       "      <td>WSC</td>\n",
       "      <td>Capitols</td>\n",
       "      <td>50</td>\n",
       "      <td>1300.0000</td>\n",
       "      <td>1320.3811</td>\n",
       "      <td>H</td>\n",
       "      <td>L</td>\n",
       "      <td>0.640065</td>\n",
       "      <td>NaN</td>\n",
       "    </tr>\n",
       "    <tr>\n",
       "      <th>5</th>\n",
       "      <td>3</td>\n",
       "      <td>194611020DTF</td>\n",
       "      <td>NBA</td>\n",
       "      <td>1</td>\n",
       "      <td>1947</td>\n",
       "      <td>11/2/1946</td>\n",
       "      <td>1</td>\n",
       "      <td>0</td>\n",
       "      <td>WSC</td>\n",
       "      <td>Capitols</td>\n",
       "      <td>50</td>\n",
       "      <td>1300.0000</td>\n",
       "      <td>1320.3811</td>\n",
       "      <td>43.135952</td>\n",
       "      <td>DTF</td>\n",
       "      <td>Falcons</td>\n",
       "      <td>33</td>\n",
       "      <td>1300.0000</td>\n",
       "      <td>1279.6189</td>\n",
       "      <td>A</td>\n",
       "      <td>W</td>\n",
       "      <td>0.359935</td>\n",
       "      <td>NaN</td>\n",
       "    </tr>\n",
       "    <tr>\n",
       "      <th>6</th>\n",
       "      <td>4</td>\n",
       "      <td>194611020PRO</td>\n",
       "      <td>NBA</td>\n",
       "      <td>1</td>\n",
       "      <td>1947</td>\n",
       "      <td>11/2/1946</td>\n",
       "      <td>1</td>\n",
       "      <td>0</td>\n",
       "      <td>BOS</td>\n",
       "      <td>Celtics</td>\n",
       "      <td>53</td>\n",
       "      <td>1300.0000</td>\n",
       "      <td>1294.8458</td>\n",
       "      <td>40.459381</td>\n",
       "      <td>PRO</td>\n",
       "      <td>Steamrollers</td>\n",
       "      <td>59</td>\n",
       "      <td>1300.0000</td>\n",
       "      <td>1305.1542</td>\n",
       "      <td>A</td>\n",
       "      <td>L</td>\n",
       "      <td>0.359935</td>\n",
       "      <td>NaN</td>\n",
       "    </tr>\n",
       "    <tr>\n",
       "      <th>7</th>\n",
       "      <td>4</td>\n",
       "      <td>194611020PRO</td>\n",
       "      <td>NBA</td>\n",
       "      <td>0</td>\n",
       "      <td>1947</td>\n",
       "      <td>11/2/1946</td>\n",
       "      <td>1</td>\n",
       "      <td>0</td>\n",
       "      <td>PRO</td>\n",
       "      <td>Steamrollers</td>\n",
       "      <td>59</td>\n",
       "      <td>1300.0000</td>\n",
       "      <td>1305.1542</td>\n",
       "      <td>41.540619</td>\n",
       "      <td>BOS</td>\n",
       "      <td>Celtics</td>\n",
       "      <td>53</td>\n",
       "      <td>1300.0000</td>\n",
       "      <td>1294.8458</td>\n",
       "      <td>H</td>\n",
       "      <td>W</td>\n",
       "      <td>0.640065</td>\n",
       "      <td>NaN</td>\n",
       "    </tr>\n",
       "    <tr>\n",
       "      <th>8</th>\n",
       "      <td>5</td>\n",
       "      <td>194611020STB</td>\n",
       "      <td>NBA</td>\n",
       "      <td>1</td>\n",
       "      <td>1947</td>\n",
       "      <td>11/2/1946</td>\n",
       "      <td>1</td>\n",
       "      <td>0</td>\n",
       "      <td>PIT</td>\n",
       "      <td>Ironmen</td>\n",
       "      <td>51</td>\n",
       "      <td>1300.0000</td>\n",
       "      <td>1295.3092</td>\n",
       "      <td>40.507980</td>\n",
       "      <td>STB</td>\n",
       "      <td>Bombers</td>\n",
       "      <td>56</td>\n",
       "      <td>1300.0000</td>\n",
       "      <td>1304.6908</td>\n",
       "      <td>A</td>\n",
       "      <td>L</td>\n",
       "      <td>0.359935</td>\n",
       "      <td>NaN</td>\n",
       "    </tr>\n",
       "    <tr>\n",
       "      <th>9</th>\n",
       "      <td>5</td>\n",
       "      <td>194611020STB</td>\n",
       "      <td>NBA</td>\n",
       "      <td>0</td>\n",
       "      <td>1947</td>\n",
       "      <td>11/2/1946</td>\n",
       "      <td>1</td>\n",
       "      <td>0</td>\n",
       "      <td>STB</td>\n",
       "      <td>Bombers</td>\n",
       "      <td>56</td>\n",
       "      <td>1300.0000</td>\n",
       "      <td>1304.6908</td>\n",
       "      <td>41.492020</td>\n",
       "      <td>PIT</td>\n",
       "      <td>Ironmen</td>\n",
       "      <td>51</td>\n",
       "      <td>1300.0000</td>\n",
       "      <td>1295.3092</td>\n",
       "      <td>H</td>\n",
       "      <td>W</td>\n",
       "      <td>0.640065</td>\n",
       "      <td>NaN</td>\n",
       "    </tr>\n",
       "  </tbody>\n",
       "</table>\n",
       "</div>"
      ],
      "text/plain": [
       "   gameorder       game_id lg_id  _iscopy  year_id  date_game  seasongame  \\\n",
       "0          1  194611010TRH   NBA        0     1947  11/1/1946           1   \n",
       "1          1  194611010TRH   NBA        1     1947  11/1/1946           1   \n",
       "2          2  194611020CHS   NBA        0     1947  11/2/1946           1   \n",
       "3          2  194611020CHS   NBA        1     1947  11/2/1946           2   \n",
       "4          3  194611020DTF   NBA        0     1947  11/2/1946           1   \n",
       "5          3  194611020DTF   NBA        1     1947  11/2/1946           1   \n",
       "6          4  194611020PRO   NBA        1     1947  11/2/1946           1   \n",
       "7          4  194611020PRO   NBA        0     1947  11/2/1946           1   \n",
       "8          5  194611020STB   NBA        1     1947  11/2/1946           1   \n",
       "9          5  194611020STB   NBA        0     1947  11/2/1946           1   \n",
       "\n",
       "   is_playoffs team_id       fran_id  pts      elo_i      elo_n  win_equiv  \\\n",
       "0            0     TRH       Huskies   66  1300.0000  1293.2767  40.294830   \n",
       "1            0     NYK        Knicks   68  1300.0000  1306.7233  41.705170   \n",
       "2            0     CHS         Stags   63  1300.0000  1309.6521  42.012257   \n",
       "3            0     NYK        Knicks   47  1306.7233  1297.0712  40.692783   \n",
       "4            0     DTF       Falcons   33  1300.0000  1279.6189  38.864048   \n",
       "5            0     WSC      Capitols   50  1300.0000  1320.3811  43.135952   \n",
       "6            0     BOS       Celtics   53  1300.0000  1294.8458  40.459381   \n",
       "7            0     PRO  Steamrollers   59  1300.0000  1305.1542  41.540619   \n",
       "8            0     PIT       Ironmen   51  1300.0000  1295.3092  40.507980   \n",
       "9            0     STB       Bombers   56  1300.0000  1304.6908  41.492020   \n",
       "\n",
       "  opp_id      opp_fran  opp_pts  opp_elo_i  opp_elo_n game_location  \\\n",
       "0    NYK        Knicks       68  1300.0000  1306.7233             H   \n",
       "1    TRH       Huskies       66  1300.0000  1293.2767             A   \n",
       "2    NYK        Knicks       47  1306.7233  1297.0712             H   \n",
       "3    CHS         Stags       63  1300.0000  1309.6521             A   \n",
       "4    WSC      Capitols       50  1300.0000  1320.3811             H   \n",
       "5    DTF       Falcons       33  1300.0000  1279.6189             A   \n",
       "6    PRO  Steamrollers       59  1300.0000  1305.1542             A   \n",
       "7    BOS       Celtics       53  1300.0000  1294.8458             H   \n",
       "8    STB       Bombers       56  1300.0000  1304.6908             A   \n",
       "9    PIT       Ironmen       51  1300.0000  1295.3092             H   \n",
       "\n",
       "  game_result  forecast notes  \n",
       "0           L  0.640065   NaN  \n",
       "1           W  0.359935   NaN  \n",
       "2           W  0.631101   NaN  \n",
       "3           L  0.368899   NaN  \n",
       "4           L  0.640065   NaN  \n",
       "5           W  0.359935   NaN  \n",
       "6           L  0.359935   NaN  \n",
       "7           W  0.640065   NaN  \n",
       "8           L  0.359935   NaN  \n",
       "9           W  0.640065   NaN  "
      ]
     },
     "execution_count": 6,
     "metadata": {},
     "output_type": "execute_result"
    }
   ],
   "source": [
    "pd.set_option('display.max.columns', None)\n",
    "df.head(10)"
   ]
  },
  {
   "cell_type": "code",
   "execution_count": 7,
   "metadata": {},
   "outputs": [
    {
     "data": {
      "text/html": [
       "<div>\n",
       "<style scoped>\n",
       "    .dataframe tbody tr th:only-of-type {\n",
       "        vertical-align: middle;\n",
       "    }\n",
       "\n",
       "    .dataframe tbody tr th {\n",
       "        vertical-align: top;\n",
       "    }\n",
       "\n",
       "    .dataframe thead th {\n",
       "        text-align: right;\n",
       "    }\n",
       "</style>\n",
       "<table border=\"1\" class=\"dataframe\">\n",
       "  <thead>\n",
       "    <tr style=\"text-align: right;\">\n",
       "      <th></th>\n",
       "      <th>gameorder</th>\n",
       "      <th>_iscopy</th>\n",
       "      <th>year_id</th>\n",
       "      <th>seasongame</th>\n",
       "      <th>is_playoffs</th>\n",
       "      <th>pts</th>\n",
       "      <th>elo_i</th>\n",
       "      <th>elo_n</th>\n",
       "      <th>win_equiv</th>\n",
       "      <th>opp_pts</th>\n",
       "      <th>opp_elo_i</th>\n",
       "      <th>opp_elo_n</th>\n",
       "      <th>forecast</th>\n",
       "    </tr>\n",
       "  </thead>\n",
       "  <tbody>\n",
       "    <tr>\n",
       "      <th>count</th>\n",
       "      <td>126314.000000</td>\n",
       "      <td>126314.000000</td>\n",
       "      <td>126314.000000</td>\n",
       "      <td>126314.000000</td>\n",
       "      <td>126314.000000</td>\n",
       "      <td>126314.000000</td>\n",
       "      <td>126314.000000</td>\n",
       "      <td>126314.000000</td>\n",
       "      <td>126314.000000</td>\n",
       "      <td>126314.000000</td>\n",
       "      <td>126314.000000</td>\n",
       "      <td>126314.000000</td>\n",
       "      <td>126314.000000</td>\n",
       "    </tr>\n",
       "    <tr>\n",
       "      <th>mean</th>\n",
       "      <td>31579.000000</td>\n",
       "      <td>0.500000</td>\n",
       "      <td>1988.200374</td>\n",
       "      <td>43.533733</td>\n",
       "      <td>0.063857</td>\n",
       "      <td>102.729982</td>\n",
       "      <td>1495.236055</td>\n",
       "      <td>1495.236055</td>\n",
       "      <td>41.707889</td>\n",
       "      <td>102.729982</td>\n",
       "      <td>1495.236055</td>\n",
       "      <td>1495.236055</td>\n",
       "      <td>0.500000</td>\n",
       "    </tr>\n",
       "    <tr>\n",
       "      <th>std</th>\n",
       "      <td>18231.927643</td>\n",
       "      <td>0.500002</td>\n",
       "      <td>17.582309</td>\n",
       "      <td>25.375178</td>\n",
       "      <td>0.244499</td>\n",
       "      <td>14.814845</td>\n",
       "      <td>112.139945</td>\n",
       "      <td>112.461687</td>\n",
       "      <td>10.627332</td>\n",
       "      <td>14.814845</td>\n",
       "      <td>112.139945</td>\n",
       "      <td>112.461687</td>\n",
       "      <td>0.215252</td>\n",
       "    </tr>\n",
       "    <tr>\n",
       "      <th>min</th>\n",
       "      <td>1.000000</td>\n",
       "      <td>0.000000</td>\n",
       "      <td>1947.000000</td>\n",
       "      <td>1.000000</td>\n",
       "      <td>0.000000</td>\n",
       "      <td>0.000000</td>\n",
       "      <td>1091.644500</td>\n",
       "      <td>1085.774400</td>\n",
       "      <td>10.152501</td>\n",
       "      <td>0.000000</td>\n",
       "      <td>1091.644500</td>\n",
       "      <td>1085.774400</td>\n",
       "      <td>0.020447</td>\n",
       "    </tr>\n",
       "    <tr>\n",
       "      <th>25%</th>\n",
       "      <td>15790.000000</td>\n",
       "      <td>0.000000</td>\n",
       "      <td>1975.000000</td>\n",
       "      <td>22.000000</td>\n",
       "      <td>0.000000</td>\n",
       "      <td>93.000000</td>\n",
       "      <td>1417.237975</td>\n",
       "      <td>1416.994900</td>\n",
       "      <td>34.103035</td>\n",
       "      <td>93.000000</td>\n",
       "      <td>1417.237975</td>\n",
       "      <td>1416.994900</td>\n",
       "      <td>0.327989</td>\n",
       "    </tr>\n",
       "    <tr>\n",
       "      <th>50%</th>\n",
       "      <td>31579.000000</td>\n",
       "      <td>0.500000</td>\n",
       "      <td>1990.000000</td>\n",
       "      <td>43.000000</td>\n",
       "      <td>0.000000</td>\n",
       "      <td>103.000000</td>\n",
       "      <td>1500.945550</td>\n",
       "      <td>1500.954400</td>\n",
       "      <td>42.113357</td>\n",
       "      <td>103.000000</td>\n",
       "      <td>1500.945550</td>\n",
       "      <td>1500.954400</td>\n",
       "      <td>0.500000</td>\n",
       "    </tr>\n",
       "    <tr>\n",
       "      <th>75%</th>\n",
       "      <td>47368.000000</td>\n",
       "      <td>1.000000</td>\n",
       "      <td>2003.000000</td>\n",
       "      <td>65.000000</td>\n",
       "      <td>0.000000</td>\n",
       "      <td>112.000000</td>\n",
       "      <td>1576.060000</td>\n",
       "      <td>1576.291625</td>\n",
       "      <td>49.635328</td>\n",
       "      <td>112.000000</td>\n",
       "      <td>1576.060000</td>\n",
       "      <td>1576.291625</td>\n",
       "      <td>0.672011</td>\n",
       "    </tr>\n",
       "    <tr>\n",
       "      <th>max</th>\n",
       "      <td>63157.000000</td>\n",
       "      <td>1.000000</td>\n",
       "      <td>2015.000000</td>\n",
       "      <td>108.000000</td>\n",
       "      <td>1.000000</td>\n",
       "      <td>186.000000</td>\n",
       "      <td>1853.104500</td>\n",
       "      <td>1853.104500</td>\n",
       "      <td>71.112038</td>\n",
       "      <td>186.000000</td>\n",
       "      <td>1853.104500</td>\n",
       "      <td>1853.104500</td>\n",
       "      <td>0.979553</td>\n",
       "    </tr>\n",
       "  </tbody>\n",
       "</table>\n",
       "</div>"
      ],
      "text/plain": [
       "           gameorder        _iscopy        year_id     seasongame  \\\n",
       "count  126314.000000  126314.000000  126314.000000  126314.000000   \n",
       "mean    31579.000000       0.500000    1988.200374      43.533733   \n",
       "std     18231.927643       0.500002      17.582309      25.375178   \n",
       "min         1.000000       0.000000    1947.000000       1.000000   \n",
       "25%     15790.000000       0.000000    1975.000000      22.000000   \n",
       "50%     31579.000000       0.500000    1990.000000      43.000000   \n",
       "75%     47368.000000       1.000000    2003.000000      65.000000   \n",
       "max     63157.000000       1.000000    2015.000000     108.000000   \n",
       "\n",
       "         is_playoffs            pts          elo_i          elo_n  \\\n",
       "count  126314.000000  126314.000000  126314.000000  126314.000000   \n",
       "mean        0.063857     102.729982    1495.236055    1495.236055   \n",
       "std         0.244499      14.814845     112.139945     112.461687   \n",
       "min         0.000000       0.000000    1091.644500    1085.774400   \n",
       "25%         0.000000      93.000000    1417.237975    1416.994900   \n",
       "50%         0.000000     103.000000    1500.945550    1500.954400   \n",
       "75%         0.000000     112.000000    1576.060000    1576.291625   \n",
       "max         1.000000     186.000000    1853.104500    1853.104500   \n",
       "\n",
       "           win_equiv        opp_pts      opp_elo_i      opp_elo_n  \\\n",
       "count  126314.000000  126314.000000  126314.000000  126314.000000   \n",
       "mean       41.707889     102.729982    1495.236055    1495.236055   \n",
       "std        10.627332      14.814845     112.139945     112.461687   \n",
       "min        10.152501       0.000000    1091.644500    1085.774400   \n",
       "25%        34.103035      93.000000    1417.237975    1416.994900   \n",
       "50%        42.113357     103.000000    1500.945550    1500.954400   \n",
       "75%        49.635328     112.000000    1576.060000    1576.291625   \n",
       "max        71.112038     186.000000    1853.104500    1853.104500   \n",
       "\n",
       "            forecast  \n",
       "count  126314.000000  \n",
       "mean        0.500000  \n",
       "std         0.215252  \n",
       "min         0.020447  \n",
       "25%         0.327989  \n",
       "50%         0.500000  \n",
       "75%         0.672011  \n",
       "max         0.979553  "
      ]
     },
     "execution_count": 7,
     "metadata": {},
     "output_type": "execute_result"
    }
   ],
   "source": [
    "df.describe()"
   ]
  },
  {
   "cell_type": "code",
   "execution_count": null,
   "metadata": {},
   "outputs": [],
   "source": []
  },
  {
   "cell_type": "code",
   "execution_count": 8,
   "metadata": {},
   "outputs": [
    {
     "data": {
      "text/plain": [
       "LAL    5078\n",
       "MNL     946\n",
       "Name: team_id, dtype: int64"
      ]
     },
     "execution_count": 8,
     "metadata": {},
     "output_type": "execute_result"
    }
   ],
   "source": [
    "df.loc[\n",
    "    df['fran_id']=='Lakers', 'team_id'\n",
    "].value_counts()"
   ]
  },
  {
   "cell_type": "code",
   "execution_count": 9,
   "metadata": {},
   "outputs": [
    {
     "data": {
      "text/plain": [
       "min    1/1/1949\n",
       "max    4/9/1959\n",
       "Name: date_game, dtype: object"
      ]
     },
     "execution_count": 9,
     "metadata": {},
     "output_type": "execute_result"
    }
   ],
   "source": [
    "df.loc[\n",
    "    df['team_id']=='MNL', 'date_game'\n",
    "].agg(('min', 'max'))"
   ]
  },
  {
   "cell_type": "code",
   "execution_count": 10,
   "metadata": {},
   "outputs": [],
   "source": [
    "revenue = pd.Series([5555, 7000, 1980])"
   ]
  },
  {
   "cell_type": "code",
   "execution_count": 11,
   "metadata": {},
   "outputs": [],
   "source": [
    "# city_revenue.values"
   ]
  },
  {
   "cell_type": "code",
   "execution_count": 12,
   "metadata": {},
   "outputs": [],
   "source": [
    "city_revenue= pd.Series(\n",
    "    [4200, 8000, 6500], \n",
    "    index=['Amsterdam', 'Toronto', 'Tokyo']\n",
    ")"
   ]
  },
  {
   "cell_type": "code",
   "execution_count": 13,
   "metadata": {},
   "outputs": [],
   "source": [
    "city_employee_count=pd.Series(\n",
    "    {'Amsterdam':5, 'Tokyo':8}\n",
    ")"
   ]
  },
  {
   "cell_type": "code",
   "execution_count": 14,
   "metadata": {},
   "outputs": [
    {
     "data": {
      "text/plain": [
       "Index(['Amsterdam', 'Tokyo'], dtype='object')"
      ]
     },
     "execution_count": 14,
     "metadata": {},
     "output_type": "execute_result"
    }
   ],
   "source": [
    "city_employee_count.index"
   ]
  },
  {
   "cell_type": "code",
   "execution_count": 15,
   "metadata": {},
   "outputs": [
    {
     "data": {
      "text/plain": [
       "Amsterdam    5\n",
       "Tokyo        8\n",
       "dtype: int64"
      ]
     },
     "execution_count": 15,
     "metadata": {},
     "output_type": "execute_result"
    }
   ],
   "source": [
    "city_employee_count"
   ]
  },
  {
   "cell_type": "code",
   "execution_count": 16,
   "metadata": {},
   "outputs": [],
   "source": [
    "city_data=pd.DataFrame({\n",
    "    'revenue':city_revenue,\n",
    "    'employee_count':city_employee_count\n",
    "})"
   ]
  },
  {
   "cell_type": "code",
   "execution_count": 17,
   "metadata": {},
   "outputs": [
    {
     "data": {
      "text/plain": [
       "array([[4.2e+03, 5.0e+00],\n",
       "       [6.5e+03, 8.0e+00],\n",
       "       [8.0e+03,     nan]])"
      ]
     },
     "execution_count": 17,
     "metadata": {},
     "output_type": "execute_result"
    }
   ],
   "source": [
    "city_data.values"
   ]
  },
  {
   "cell_type": "code",
   "execution_count": 18,
   "metadata": {},
   "outputs": [],
   "source": [
    "## Accessing the element"
   ]
  },
  {
   "cell_type": "code",
   "execution_count": 19,
   "metadata": {},
   "outputs": [
    {
     "data": {
      "text/plain": [
       "Amsterdam    4200\n",
       "Toronto      8000\n",
       "Tokyo        6500\n",
       "dtype: int64"
      ]
     },
     "execution_count": 19,
     "metadata": {},
     "output_type": "execute_result"
    }
   ],
   "source": [
    "city_revenue"
   ]
  },
  {
   "cell_type": "code",
   "execution_count": 20,
   "metadata": {},
   "outputs": [
    {
     "data": {
      "text/plain": [
       "6500"
      ]
     },
     "execution_count": 20,
     "metadata": {},
     "output_type": "execute_result"
    }
   ],
   "source": [
    "city_revenue['Tokyo']"
   ]
  },
  {
   "cell_type": "code",
   "execution_count": 21,
   "metadata": {},
   "outputs": [],
   "source": [
    "colors = pd.Series(\n",
    "    ['red', 'purple', 'blue', 'green','yellow'], index=[1,2,3,5,8]\n",
    ")"
   ]
  },
  {
   "cell_type": "code",
   "execution_count": 22,
   "metadata": {},
   "outputs": [
    {
     "data": {
      "text/plain": [
       "1       red\n",
       "2    purple\n",
       "3      blue\n",
       "5     green\n",
       "8    yellow\n",
       "dtype: object"
      ]
     },
     "execution_count": 22,
     "metadata": {},
     "output_type": "execute_result"
    }
   ],
   "source": [
    "colors"
   ]
  },
  {
   "cell_type": "code",
   "execution_count": 23,
   "metadata": {},
   "outputs": [
    {
     "data": {
      "text/plain": [
       "'yellow'"
      ]
     },
     "execution_count": 23,
     "metadata": {},
     "output_type": "execute_result"
    }
   ],
   "source": [
    "colors[8]"
   ]
  },
  {
   "cell_type": "code",
   "execution_count": 24,
   "metadata": {},
   "outputs": [
    {
     "data": {
      "text/plain": [
       "'purple'"
      ]
     },
     "execution_count": 24,
     "metadata": {},
     "output_type": "execute_result"
    }
   ],
   "source": [
    "colors.iloc[1]"
   ]
  },
  {
   "cell_type": "code",
   "execution_count": 25,
   "metadata": {},
   "outputs": [
    {
     "data": {
      "text/plain": [
       "'yellow'"
      ]
     },
     "execution_count": 25,
     "metadata": {},
     "output_type": "execute_result"
    }
   ],
   "source": [
    "colors[8]\n",
    "colors.loc[8]"
   ]
  },
  {
   "cell_type": "code",
   "execution_count": 26,
   "metadata": {},
   "outputs": [
    {
     "name": "stdout",
     "output_type": "stream",
     "text": [
      "Amsterdam    4200\n",
      "Tokyo        6500\n",
      "Toronto      8000\n",
      "Name: revenue, dtype: int64\n",
      "Amsterdam    4200\n",
      "Tokyo        6500\n",
      "Toronto      8000\n",
      "Name: revenue, dtype: int64\n"
     ]
    }
   ],
   "source": [
    "print(city_data['revenue'])\n",
    "print(city_data.revenue)"
   ]
  },
  {
   "cell_type": "code",
   "execution_count": 27,
   "metadata": {},
   "outputs": [
    {
     "data": {
      "text/plain": [
       "revenue           4200.0\n",
       "employee_count       5.0\n",
       "Name: Amsterdam, dtype: float64"
      ]
     },
     "execution_count": 27,
     "metadata": {},
     "output_type": "execute_result"
    }
   ],
   "source": [
    "city_data.loc['Amsterdam']"
   ]
  },
  {
   "cell_type": "code",
   "execution_count": 28,
   "metadata": {
    "scrolled": true
   },
   "outputs": [
    {
     "data": {
      "text/plain": [
       "gameorder                   1\n",
       "game_id          194611010TRH\n",
       "lg_id                     NBA\n",
       "_iscopy                     1\n",
       "year_id                  1947\n",
       "date_game           11/1/1946\n",
       "seasongame                  1\n",
       "is_playoffs                 0\n",
       "team_id                   NYK\n",
       "fran_id                Knicks\n",
       "pts                        68\n",
       "elo_i                    1300\n",
       "elo_n                 1306.72\n",
       "win_equiv             41.7052\n",
       "opp_id                    TRH\n",
       "opp_fran              Huskies\n",
       "opp_pts                    66\n",
       "opp_elo_i                1300\n",
       "opp_elo_n             1293.28\n",
       "game_location               A\n",
       "game_result                 W\n",
       "forecast             0.359935\n",
       "notes                     NaN\n",
       "Name: 1, dtype: object"
      ]
     },
     "execution_count": 28,
     "metadata": {},
     "output_type": "execute_result"
    }
   ],
   "source": [
    "df.iloc[1]"
   ]
  },
  {
   "cell_type": "code",
   "execution_count": 29,
   "metadata": {},
   "outputs": [
    {
     "data": {
      "text/html": [
       "<div>\n",
       "<style scoped>\n",
       "    .dataframe tbody tr th:only-of-type {\n",
       "        vertical-align: middle;\n",
       "    }\n",
       "\n",
       "    .dataframe tbody tr th {\n",
       "        vertical-align: top;\n",
       "    }\n",
       "\n",
       "    .dataframe thead th {\n",
       "        text-align: right;\n",
       "    }\n",
       "</style>\n",
       "<table border=\"1\" class=\"dataframe\">\n",
       "  <thead>\n",
       "    <tr style=\"text-align: right;\">\n",
       "      <th></th>\n",
       "      <th>fran_id</th>\n",
       "      <th>pts</th>\n",
       "      <th>opp_fran</th>\n",
       "      <th>opp_pts</th>\n",
       "    </tr>\n",
       "  </thead>\n",
       "  <tbody>\n",
       "    <tr>\n",
       "      <th>2000</th>\n",
       "      <td>Packers</td>\n",
       "      <td>83</td>\n",
       "      <td>Olympians</td>\n",
       "      <td>72</td>\n",
       "    </tr>\n",
       "    <tr>\n",
       "      <th>2001</th>\n",
       "      <td>Olympians</td>\n",
       "      <td>72</td>\n",
       "      <td>Packers</td>\n",
       "      <td>83</td>\n",
       "    </tr>\n",
       "    <tr>\n",
       "      <th>2002</th>\n",
       "      <td>Knicks</td>\n",
       "      <td>74</td>\n",
       "      <td>Sixers</td>\n",
       "      <td>77</td>\n",
       "    </tr>\n",
       "    <tr>\n",
       "      <th>2003</th>\n",
       "      <td>Sixers</td>\n",
       "      <td>77</td>\n",
       "      <td>Knicks</td>\n",
       "      <td>74</td>\n",
       "    </tr>\n",
       "    <tr>\n",
       "      <th>2004</th>\n",
       "      <td>Kings</td>\n",
       "      <td>93</td>\n",
       "      <td>Hawks</td>\n",
       "      <td>81</td>\n",
       "    </tr>\n",
       "    <tr>\n",
       "      <th>2005</th>\n",
       "      <td>Hawks</td>\n",
       "      <td>81</td>\n",
       "      <td>Kings</td>\n",
       "      <td>93</td>\n",
       "    </tr>\n",
       "  </tbody>\n",
       "</table>\n",
       "</div>"
      ],
      "text/plain": [
       "        fran_id  pts   opp_fran  opp_pts\n",
       "2000    Packers   83  Olympians       72\n",
       "2001  Olympians   72    Packers       83\n",
       "2002     Knicks   74     Sixers       77\n",
       "2003     Sixers   77     Knicks       74\n",
       "2004      Kings   93      Hawks       81\n",
       "2005      Hawks   81      Kings       93"
      ]
     },
     "execution_count": 29,
     "metadata": {},
     "output_type": "execute_result"
    }
   ],
   "source": [
    "df.loc[2000:2005, ['fran_id', 'pts', 'opp_fran','opp_pts']]"
   ]
  },
  {
   "cell_type": "code",
   "execution_count": 30,
   "metadata": {},
   "outputs": [
    {
     "data": {
      "text/html": [
       "<div>\n",
       "<style scoped>\n",
       "    .dataframe tbody tr th:only-of-type {\n",
       "        vertical-align: middle;\n",
       "    }\n",
       "\n",
       "    .dataframe tbody tr th {\n",
       "        vertical-align: top;\n",
       "    }\n",
       "\n",
       "    .dataframe thead th {\n",
       "        text-align: right;\n",
       "    }\n",
       "</style>\n",
       "<table border=\"1\" class=\"dataframe\">\n",
       "  <thead>\n",
       "    <tr style=\"text-align: right;\">\n",
       "      <th></th>\n",
       "      <th>gameorder</th>\n",
       "      <th>game_id</th>\n",
       "      <th>lg_id</th>\n",
       "      <th>_iscopy</th>\n",
       "      <th>year_id</th>\n",
       "      <th>date_game</th>\n",
       "      <th>seasongame</th>\n",
       "      <th>is_playoffs</th>\n",
       "      <th>team_id</th>\n",
       "      <th>fran_id</th>\n",
       "      <th>pts</th>\n",
       "      <th>elo_i</th>\n",
       "      <th>elo_n</th>\n",
       "      <th>win_equiv</th>\n",
       "      <th>opp_id</th>\n",
       "      <th>opp_fran</th>\n",
       "      <th>opp_pts</th>\n",
       "      <th>opp_elo_i</th>\n",
       "      <th>opp_elo_n</th>\n",
       "      <th>game_location</th>\n",
       "      <th>game_result</th>\n",
       "      <th>forecast</th>\n",
       "      <th>notes</th>\n",
       "    </tr>\n",
       "  </thead>\n",
       "  <tbody>\n",
       "    <tr>\n",
       "      <th>113656</th>\n",
       "      <td>56829</td>\n",
       "      <td>201010260BOS</td>\n",
       "      <td>NBA</td>\n",
       "      <td>1</td>\n",
       "      <td>2011</td>\n",
       "      <td>10/26/2010</td>\n",
       "      <td>1</td>\n",
       "      <td>0</td>\n",
       "      <td>MIA</td>\n",
       "      <td>Heat</td>\n",
       "      <td>80</td>\n",
       "      <td>1547.3638</td>\n",
       "      <td>1543.1600</td>\n",
       "      <td>45.141479</td>\n",
       "      <td>BOS</td>\n",
       "      <td>Celtics</td>\n",
       "      <td>88</td>\n",
       "      <td>1625.0994</td>\n",
       "      <td>1629.3031</td>\n",
       "      <td>A</td>\n",
       "      <td>L</td>\n",
       "      <td>0.264418</td>\n",
       "      <td>NaN</td>\n",
       "    </tr>\n",
       "    <tr>\n",
       "      <th>113657</th>\n",
       "      <td>56829</td>\n",
       "      <td>201010260BOS</td>\n",
       "      <td>NBA</td>\n",
       "      <td>0</td>\n",
       "      <td>2011</td>\n",
       "      <td>10/26/2010</td>\n",
       "      <td>1</td>\n",
       "      <td>0</td>\n",
       "      <td>BOS</td>\n",
       "      <td>Celtics</td>\n",
       "      <td>88</td>\n",
       "      <td>1625.0994</td>\n",
       "      <td>1629.3031</td>\n",
       "      <td>53.754559</td>\n",
       "      <td>MIA</td>\n",
       "      <td>Heat</td>\n",
       "      <td>80</td>\n",
       "      <td>1547.3638</td>\n",
       "      <td>1543.1600</td>\n",
       "      <td>H</td>\n",
       "      <td>W</td>\n",
       "      <td>0.735582</td>\n",
       "      <td>NaN</td>\n",
       "    </tr>\n",
       "    <tr>\n",
       "      <th>113658</th>\n",
       "      <td>56830</td>\n",
       "      <td>201010260LAL</td>\n",
       "      <td>NBA</td>\n",
       "      <td>1</td>\n",
       "      <td>2011</td>\n",
       "      <td>10/26/2010</td>\n",
       "      <td>1</td>\n",
       "      <td>0</td>\n",
       "      <td>HOU</td>\n",
       "      <td>Rockets</td>\n",
       "      <td>110</td>\n",
       "      <td>1504.1956</td>\n",
       "      <td>1502.5969</td>\n",
       "      <td>40.900764</td>\n",
       "      <td>LAL</td>\n",
       "      <td>Lakers</td>\n",
       "      <td>112</td>\n",
       "      <td>1647.6016</td>\n",
       "      <td>1649.2002</td>\n",
       "      <td>A</td>\n",
       "      <td>L</td>\n",
       "      <td>0.197632</td>\n",
       "      <td>NaN</td>\n",
       "    </tr>\n",
       "    <tr>\n",
       "      <th>113659</th>\n",
       "      <td>56830</td>\n",
       "      <td>201010260LAL</td>\n",
       "      <td>NBA</td>\n",
       "      <td>0</td>\n",
       "      <td>2011</td>\n",
       "      <td>10/26/2010</td>\n",
       "      <td>1</td>\n",
       "      <td>0</td>\n",
       "      <td>LAL</td>\n",
       "      <td>Lakers</td>\n",
       "      <td>112</td>\n",
       "      <td>1647.6016</td>\n",
       "      <td>1649.2002</td>\n",
       "      <td>55.608730</td>\n",
       "      <td>HOU</td>\n",
       "      <td>Rockets</td>\n",
       "      <td>110</td>\n",
       "      <td>1504.1956</td>\n",
       "      <td>1502.5969</td>\n",
       "      <td>H</td>\n",
       "      <td>W</td>\n",
       "      <td>0.802368</td>\n",
       "      <td>NaN</td>\n",
       "    </tr>\n",
       "    <tr>\n",
       "      <th>113660</th>\n",
       "      <td>56831</td>\n",
       "      <td>201010260POR</td>\n",
       "      <td>NBA</td>\n",
       "      <td>1</td>\n",
       "      <td>2011</td>\n",
       "      <td>10/26/2010</td>\n",
       "      <td>1</td>\n",
       "      <td>0</td>\n",
       "      <td>PHO</td>\n",
       "      <td>Suns</td>\n",
       "      <td>92</td>\n",
       "      <td>1643.0225</td>\n",
       "      <td>1630.6204</td>\n",
       "      <td>53.879230</td>\n",
       "      <td>POR</td>\n",
       "      <td>Trailblazers</td>\n",
       "      <td>106</td>\n",
       "      <td>1552.8141</td>\n",
       "      <td>1565.2162</td>\n",
       "      <td>A</td>\n",
       "      <td>L</td>\n",
       "      <td>0.485912</td>\n",
       "      <td>NaN</td>\n",
       "    </tr>\n",
       "    <tr>\n",
       "      <th>...</th>\n",
       "      <td>...</td>\n",
       "      <td>...</td>\n",
       "      <td>...</td>\n",
       "      <td>...</td>\n",
       "      <td>...</td>\n",
       "      <td>...</td>\n",
       "      <td>...</td>\n",
       "      <td>...</td>\n",
       "      <td>...</td>\n",
       "      <td>...</td>\n",
       "      <td>...</td>\n",
       "      <td>...</td>\n",
       "      <td>...</td>\n",
       "      <td>...</td>\n",
       "      <td>...</td>\n",
       "      <td>...</td>\n",
       "      <td>...</td>\n",
       "      <td>...</td>\n",
       "      <td>...</td>\n",
       "      <td>...</td>\n",
       "      <td>...</td>\n",
       "      <td>...</td>\n",
       "      <td>...</td>\n",
       "    </tr>\n",
       "    <tr>\n",
       "      <th>126309</th>\n",
       "      <td>63155</td>\n",
       "      <td>201506110CLE</td>\n",
       "      <td>NBA</td>\n",
       "      <td>0</td>\n",
       "      <td>2015</td>\n",
       "      <td>6/11/2015</td>\n",
       "      <td>100</td>\n",
       "      <td>1</td>\n",
       "      <td>CLE</td>\n",
       "      <td>Cavaliers</td>\n",
       "      <td>82</td>\n",
       "      <td>1723.4149</td>\n",
       "      <td>1704.3949</td>\n",
       "      <td>60.309792</td>\n",
       "      <td>GSW</td>\n",
       "      <td>Warriors</td>\n",
       "      <td>103</td>\n",
       "      <td>1790.9591</td>\n",
       "      <td>1809.9791</td>\n",
       "      <td>H</td>\n",
       "      <td>L</td>\n",
       "      <td>0.546572</td>\n",
       "      <td>NaN</td>\n",
       "    </tr>\n",
       "    <tr>\n",
       "      <th>126310</th>\n",
       "      <td>63156</td>\n",
       "      <td>201506140GSW</td>\n",
       "      <td>NBA</td>\n",
       "      <td>0</td>\n",
       "      <td>2015</td>\n",
       "      <td>6/14/2015</td>\n",
       "      <td>102</td>\n",
       "      <td>1</td>\n",
       "      <td>GSW</td>\n",
       "      <td>Warriors</td>\n",
       "      <td>104</td>\n",
       "      <td>1809.9791</td>\n",
       "      <td>1813.6349</td>\n",
       "      <td>68.013329</td>\n",
       "      <td>CLE</td>\n",
       "      <td>Cavaliers</td>\n",
       "      <td>91</td>\n",
       "      <td>1704.3949</td>\n",
       "      <td>1700.7391</td>\n",
       "      <td>H</td>\n",
       "      <td>W</td>\n",
       "      <td>0.765565</td>\n",
       "      <td>NaN</td>\n",
       "    </tr>\n",
       "    <tr>\n",
       "      <th>126311</th>\n",
       "      <td>63156</td>\n",
       "      <td>201506140GSW</td>\n",
       "      <td>NBA</td>\n",
       "      <td>1</td>\n",
       "      <td>2015</td>\n",
       "      <td>6/14/2015</td>\n",
       "      <td>101</td>\n",
       "      <td>1</td>\n",
       "      <td>CLE</td>\n",
       "      <td>Cavaliers</td>\n",
       "      <td>91</td>\n",
       "      <td>1704.3949</td>\n",
       "      <td>1700.7391</td>\n",
       "      <td>60.010067</td>\n",
       "      <td>GSW</td>\n",
       "      <td>Warriors</td>\n",
       "      <td>104</td>\n",
       "      <td>1809.9791</td>\n",
       "      <td>1813.6349</td>\n",
       "      <td>A</td>\n",
       "      <td>L</td>\n",
       "      <td>0.234435</td>\n",
       "      <td>NaN</td>\n",
       "    </tr>\n",
       "    <tr>\n",
       "      <th>126312</th>\n",
       "      <td>63157</td>\n",
       "      <td>201506170CLE</td>\n",
       "      <td>NBA</td>\n",
       "      <td>0</td>\n",
       "      <td>2015</td>\n",
       "      <td>6/16/2015</td>\n",
       "      <td>102</td>\n",
       "      <td>1</td>\n",
       "      <td>CLE</td>\n",
       "      <td>Cavaliers</td>\n",
       "      <td>97</td>\n",
       "      <td>1700.7391</td>\n",
       "      <td>1692.0859</td>\n",
       "      <td>59.290245</td>\n",
       "      <td>GSW</td>\n",
       "      <td>Warriors</td>\n",
       "      <td>105</td>\n",
       "      <td>1813.6349</td>\n",
       "      <td>1822.2881</td>\n",
       "      <td>H</td>\n",
       "      <td>L</td>\n",
       "      <td>0.481450</td>\n",
       "      <td>NaN</td>\n",
       "    </tr>\n",
       "    <tr>\n",
       "      <th>126313</th>\n",
       "      <td>63157</td>\n",
       "      <td>201506170CLE</td>\n",
       "      <td>NBA</td>\n",
       "      <td>1</td>\n",
       "      <td>2015</td>\n",
       "      <td>6/16/2015</td>\n",
       "      <td>103</td>\n",
       "      <td>1</td>\n",
       "      <td>GSW</td>\n",
       "      <td>Warriors</td>\n",
       "      <td>105</td>\n",
       "      <td>1813.6349</td>\n",
       "      <td>1822.2881</td>\n",
       "      <td>68.519516</td>\n",
       "      <td>CLE</td>\n",
       "      <td>Cavaliers</td>\n",
       "      <td>97</td>\n",
       "      <td>1700.7391</td>\n",
       "      <td>1692.0859</td>\n",
       "      <td>A</td>\n",
       "      <td>W</td>\n",
       "      <td>0.518550</td>\n",
       "      <td>NaN</td>\n",
       "    </tr>\n",
       "  </tbody>\n",
       "</table>\n",
       "<p>12658 rows × 23 columns</p>\n",
       "</div>"
      ],
      "text/plain": [
       "        gameorder       game_id lg_id  _iscopy  year_id   date_game  \\\n",
       "113656      56829  201010260BOS   NBA        1     2011  10/26/2010   \n",
       "113657      56829  201010260BOS   NBA        0     2011  10/26/2010   \n",
       "113658      56830  201010260LAL   NBA        1     2011  10/26/2010   \n",
       "113659      56830  201010260LAL   NBA        0     2011  10/26/2010   \n",
       "113660      56831  201010260POR   NBA        1     2011  10/26/2010   \n",
       "...           ...           ...   ...      ...      ...         ...   \n",
       "126309      63155  201506110CLE   NBA        0     2015   6/11/2015   \n",
       "126310      63156  201506140GSW   NBA        0     2015   6/14/2015   \n",
       "126311      63156  201506140GSW   NBA        1     2015   6/14/2015   \n",
       "126312      63157  201506170CLE   NBA        0     2015   6/16/2015   \n",
       "126313      63157  201506170CLE   NBA        1     2015   6/16/2015   \n",
       "\n",
       "        seasongame  is_playoffs team_id    fran_id  pts      elo_i      elo_n  \\\n",
       "113656           1            0     MIA       Heat   80  1547.3638  1543.1600   \n",
       "113657           1            0     BOS    Celtics   88  1625.0994  1629.3031   \n",
       "113658           1            0     HOU    Rockets  110  1504.1956  1502.5969   \n",
       "113659           1            0     LAL     Lakers  112  1647.6016  1649.2002   \n",
       "113660           1            0     PHO       Suns   92  1643.0225  1630.6204   \n",
       "...            ...          ...     ...        ...  ...        ...        ...   \n",
       "126309         100            1     CLE  Cavaliers   82  1723.4149  1704.3949   \n",
       "126310         102            1     GSW   Warriors  104  1809.9791  1813.6349   \n",
       "126311         101            1     CLE  Cavaliers   91  1704.3949  1700.7391   \n",
       "126312         102            1     CLE  Cavaliers   97  1700.7391  1692.0859   \n",
       "126313         103            1     GSW   Warriors  105  1813.6349  1822.2881   \n",
       "\n",
       "        win_equiv opp_id      opp_fran  opp_pts  opp_elo_i  opp_elo_n  \\\n",
       "113656  45.141479    BOS       Celtics       88  1625.0994  1629.3031   \n",
       "113657  53.754559    MIA          Heat       80  1547.3638  1543.1600   \n",
       "113658  40.900764    LAL        Lakers      112  1647.6016  1649.2002   \n",
       "113659  55.608730    HOU       Rockets      110  1504.1956  1502.5969   \n",
       "113660  53.879230    POR  Trailblazers      106  1552.8141  1565.2162   \n",
       "...           ...    ...           ...      ...        ...        ...   \n",
       "126309  60.309792    GSW      Warriors      103  1790.9591  1809.9791   \n",
       "126310  68.013329    CLE     Cavaliers       91  1704.3949  1700.7391   \n",
       "126311  60.010067    GSW      Warriors      104  1809.9791  1813.6349   \n",
       "126312  59.290245    GSW      Warriors      105  1813.6349  1822.2881   \n",
       "126313  68.519516    CLE     Cavaliers       97  1700.7391  1692.0859   \n",
       "\n",
       "       game_location game_result  forecast notes  \n",
       "113656             A           L  0.264418   NaN  \n",
       "113657             H           W  0.735582   NaN  \n",
       "113658             A           L  0.197632   NaN  \n",
       "113659             H           W  0.802368   NaN  \n",
       "113660             A           L  0.485912   NaN  \n",
       "...              ...         ...       ...   ...  \n",
       "126309             H           L  0.546572   NaN  \n",
       "126310             H           W  0.765565   NaN  \n",
       "126311             A           L  0.234435   NaN  \n",
       "126312             H           L  0.481450   NaN  \n",
       "126313             A           W  0.518550   NaN  \n",
       "\n",
       "[12658 rows x 23 columns]"
      ]
     },
     "execution_count": 30,
     "metadata": {},
     "output_type": "execute_result"
    }
   ],
   "source": [
    "#Querying \n",
    "current_decade = df[\n",
    "    df['year_id'] > 2010\n",
    "]\n",
    "\n",
    "current_decade"
   ]
  },
  {
   "cell_type": "code",
   "execution_count": 31,
   "metadata": {},
   "outputs": [
    {
     "data": {
      "text/plain": [
       "fran_id\n",
       "Huskies           3995\n",
       "Knicks          582497\n",
       "Stags            20398\n",
       "Falcons           3797\n",
       "Capitols         22387\n",
       "Celtics         626484\n",
       "Steamrollers     12372\n",
       "Ironmen           3674\n",
       "Bombers          17793\n",
       "Rebels            4474\n",
       "Warriors        591224\n",
       "Baltimore        37219\n",
       "Jets              4482\n",
       "Pistons         572758\n",
       "Lakers          637444\n",
       "Kings           569245\n",
       "Hawks           567261\n",
       "Denver            4818\n",
       "Olympians        22864\n",
       "Redskins          5372\n",
       "Waterloo          4921\n",
       "Packers           6193\n",
       "Sixers          585891\n",
       "Wizards         474809\n",
       "Bulls           437269\n",
       "Thunder         437735\n",
       "Squires          91127\n",
       "Stars            84940\n",
       "Rockets         432504\n",
       "Colonels         94435\n",
       "Pacers          438288\n",
       "Nuggets         445780\n",
       "Spurs           453822\n",
       "Spirits          85874\n",
       "Sounds           75582\n",
       "Floridians       49568\n",
       "Nets            417809\n",
       "Condors          49642\n",
       "Bucks           418326\n",
       "Suns            437486\n",
       "Clippers        380523\n",
       "Cavaliers       380416\n",
       "Trailblazers    402695\n",
       "Sails            30080\n",
       "Jazz            363155\n",
       "Mavericks       309239\n",
       "Pelicans        220794\n",
       "Heat            229103\n",
       "Timberwolves    207693\n",
       "Magic           219436\n",
       "Grizzlies       157683\n",
       "Raptors         158370\n",
       "Hornets          84489\n",
       "Name: pts, dtype: int64"
      ]
     },
     "execution_count": 31,
     "metadata": {},
     "output_type": "execute_result"
    }
   ],
   "source": [
    "df.groupby(\"fran_id\", sort=False)[\"pts\"].sum()"
   ]
  },
  {
   "cell_type": "code",
   "execution_count": 32,
   "metadata": {},
   "outputs": [
    {
     "data": {
      "text/plain": [
       "year_id  game_result\n",
       "2011     L              25\n",
       "         W              63\n",
       "2012     L              20\n",
       "         W              60\n",
       "2013     L              30\n",
       "         W              73\n",
       "2014     L              27\n",
       "         W              78\n",
       "2015     L              31\n",
       "         W              58\n",
       "Name: game_id, dtype: int64"
      ]
     },
     "execution_count": 32,
     "metadata": {},
     "output_type": "execute_result"
    }
   ],
   "source": [
    "df[\n",
    "    (df['fran_id'] == 'Spurs') &\n",
    "    (df['year_id'] > 2010)\n",
    "].groupby(['year_id','game_result'])['game_id'].count()"
   ]
  },
  {
   "cell_type": "markdown",
   "metadata": {},
   "source": [
    "# Query"
   ]
  },
  {
   "cell_type": "code",
   "execution_count": 33,
   "metadata": {},
   "outputs": [
    {
     "ename": "NameError",
     "evalue": "name 'nba' is not defined",
     "output_type": "error",
     "traceback": [
      "\u001b[1;31m---------------------------------------------------------------------------\u001b[0m",
      "\u001b[1;31mNameError\u001b[0m                                 Traceback (most recent call last)",
      "\u001b[1;32m<ipython-input-33-a8637f995263>\u001b[0m in \u001b[0;36m<module>\u001b[1;34m\u001b[0m\n\u001b[1;32m----> 1\u001b[1;33m \u001b[0mnba\u001b[0m\u001b[1;33m\u001b[0m\u001b[1;33m\u001b[0m\u001b[0m\n\u001b[0m",
      "\u001b[1;31mNameError\u001b[0m: name 'nba' is not defined"
     ]
    }
   ],
   "source": [
    "nba"
   ]
  },
  {
   "cell_type": "code",
   "execution_count": null,
   "metadata": {},
   "outputs": [],
   "source": [
    "nba = df.copy()"
   ]
  },
  {
   "cell_type": "code",
   "execution_count": null,
   "metadata": {},
   "outputs": [],
   "source": [
    "nba.is_playoffs.value_counts()"
   ]
  },
  {
   "cell_type": "code",
   "execution_count": null,
   "metadata": {},
   "outputs": [],
   "source": []
  },
  {
   "cell_type": "code",
   "execution_count": null,
   "metadata": {},
   "outputs": [],
   "source": [
    "nba['difference'] = df.pts - df.opp_pts"
   ]
  },
  {
   "cell_type": "code",
   "execution_count": null,
   "metadata": {},
   "outputs": [],
   "source": [
    "nba['game_location'].nunique"
   ]
  },
  {
   "cell_type": "code",
   "execution_count": null,
   "metadata": {},
   "outputs": [],
   "source": [
    "nba[\"date_game\"] = pd.to_datetime(nba[\"date_game\"])"
   ]
  },
  {
   "cell_type": "code",
   "execution_count": null,
   "metadata": {},
   "outputs": [],
   "source": [
    "nba.info()"
   ]
  },
  {
   "cell_type": "code",
   "execution_count": null,
   "metadata": {},
   "outputs": [],
   "source": [
    "data_without_missing_columns = nba.dropna(axis=1)"
   ]
  },
  {
   "cell_type": "code",
   "execution_count": null,
   "metadata": {},
   "outputs": [],
   "source": [
    "data_without_missing_columns.shape"
   ]
  },
  {
   "cell_type": "code",
   "execution_count": null,
   "metadata": {},
   "outputs": [],
   "source": [
    "further_city_data = pd.DataFrame(\n",
    "    {\"revenue\": [7000, 3400], \"employee_count\": [2, 2]},\n",
    "    index=[\"New York\", \"Barcelona\"]\n",
    ")"
   ]
  },
  {
   "cell_type": "code",
   "execution_count": null,
   "metadata": {},
   "outputs": [],
   "source": [
    "further_city_data"
   ]
  },
  {
   "cell_type": "code",
   "execution_count": null,
   "metadata": {},
   "outputs": [],
   "source": [
    "city_data"
   ]
  },
  {
   "cell_type": "code",
   "execution_count": null,
   "metadata": {},
   "outputs": [],
   "source": [
    "all_city_data = pd.concat([city_data, further_city_data], sort=False)"
   ]
  },
  {
   "cell_type": "code",
   "execution_count": null,
   "metadata": {},
   "outputs": [],
   "source": [
    "all_city_data"
   ]
  },
  {
   "cell_type": "code",
   "execution_count": null,
   "metadata": {},
   "outputs": [],
   "source": [
    "city_countries = pd.DataFrame({\n",
    "    \"country\": [\"Holland\", \"Japan\", \"Holland\", \"Canada\", \"Spain\"],\n",
    "    \"capital\": [1, 1, 0, 0, 0]},\n",
    "    index=[\"Amsterdam\", \"Tokyo\", \"Rotterdam\", \"Toronto\", \"Barcelona\"]\n",
    ")"
   ]
  },
  {
   "cell_type": "code",
   "execution_count": null,
   "metadata": {},
   "outputs": [],
   "source": [
    "city_countries"
   ]
  },
  {
   "cell_type": "code",
   "execution_count": null,
   "metadata": {},
   "outputs": [],
   "source": [
    "city_countries = pd.DataFrame({\n",
    "    \"country\": [\"Holland\", \"Japan\", \"Holland\", \"Canada\", \"Spain\"],\n",
    "    \"capital\": [1, 1, 0, 0, 0]},\n",
    "    index=[\"Amsterdam\", \"Tokyo\", \"Rotterdam\", \"Toronto\", \"Barcelona\"]\n",
    ")"
   ]
  },
  {
   "cell_type": "code",
   "execution_count": null,
   "metadata": {},
   "outputs": [],
   "source": [
    "city_countries"
   ]
  },
  {
   "cell_type": "code",
   "execution_count": null,
   "metadata": {},
   "outputs": [],
   "source": [
    "cities = pd.concat([all_city_data, city_countries], axis=1, sort=False)"
   ]
  },
  {
   "cell_type": "code",
   "execution_count": null,
   "metadata": {},
   "outputs": [],
   "source": [
    "%matplotlib inline"
   ]
  },
  {
   "cell_type": "code",
   "execution_count": null,
   "metadata": {},
   "outputs": [],
   "source": [
    "nba[nba[\"fran_id\"] == \"Knicks\"].groupby(\"year_id\")[\"pts\"].sum().plot()"
   ]
  },
  {
   "cell_type": "code",
   "execution_count": null,
   "metadata": {},
   "outputs": [],
   "source": [
    "nba[\"fran_id\"].value_counts().head(10).plot(kind=\"bar\")"
   ]
  },
  {
   "cell_type": "code",
   "execution_count": null,
   "metadata": {},
   "outputs": [],
   "source": [
    "nba[nba[\"fran_id\"] == \"Knicks\"].groupby(\"year_id\")[\"pts\"].sum().plot()"
   ]
  },
  {
   "cell_type": "code",
   "execution_count": null,
   "metadata": {},
   "outputs": [],
   "source": []
  }
 ],
 "metadata": {
  "kernelspec": {
   "display_name": "Python 3",
   "language": "python",
   "name": "python3"
  },
  "language_info": {
   "codemirror_mode": {
    "name": "ipython",
    "version": 3
   },
   "file_extension": ".py",
   "mimetype": "text/x-python",
   "name": "python",
   "nbconvert_exporter": "python",
   "pygments_lexer": "ipython3",
   "version": "3.8.5"
  }
 },
 "nbformat": 4,
 "nbformat_minor": 4
}
