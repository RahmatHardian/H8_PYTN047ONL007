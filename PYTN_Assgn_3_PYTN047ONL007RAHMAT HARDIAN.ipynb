{
 "cells": [
  {
   "cell_type": "markdown",
   "metadata": {},
   "source": [
    "<img src = \"https://global-uploads.webflow.com/5f0d53c042a9ed6288de7f8d/5f6337ae2cfaa10946ceeb06_Hacktiv8%20logo%20horizontal%2001%20black-p-500.png\" width = 400>\n",
    "<h1 align=center><font size = 5>Hacktiv8 PTP Introduction to Data Science Assignment 3 // Statistical Treatment for Retail Dataset</font></h1>"
   ]
  },
  {
   "cell_type": "markdown",
   "metadata": {},
   "source": [
    "# Data Preparation"
   ]
  },
  {
   "cell_type": "code",
   "execution_count": 1,
   "metadata": {},
   "outputs": [
    {
     "name": "stderr",
     "output_type": "stream",
     "text": [
      "d:\\installation\\python38-32\\lib\\site-packages\\IPython\\core\\interactiveshell.py:3145: DtypeWarning: Columns (10,13,14,15) have mixed types.Specify dtype option on import or set low_memory=False.\n",
      "  has_raised = await self.run_ast_nodes(code_ast.body, cell_name,\n"
     ]
    },
    {
     "data": {
      "text/html": [
       "<div>\n",
       "<style scoped>\n",
       "    .dataframe tbody tr th:only-of-type {\n",
       "        vertical-align: middle;\n",
       "    }\n",
       "\n",
       "    .dataframe tbody tr th {\n",
       "        vertical-align: top;\n",
       "    }\n",
       "\n",
       "    .dataframe thead th {\n",
       "        text-align: right;\n",
       "    }\n",
       "</style>\n",
       "<table border=\"1\" class=\"dataframe\">\n",
       "  <thead>\n",
       "    <tr style=\"text-align: right;\">\n",
       "      <th></th>\n",
       "      <th>BULAN</th>\n",
       "      <th>USERNAME</th>\n",
       "      <th>CFU/FU</th>\n",
       "      <th>DIVISI</th>\n",
       "      <th>NAME</th>\n",
       "      <th>SURNAME</th>\n",
       "      <th>HCBP</th>\n",
       "      <th>COURSE</th>\n",
       "      <th>TGL PRE TEST</th>\n",
       "      <th>PRE TEST</th>\n",
       "      <th>TGL POST TEST</th>\n",
       "      <th>POST TEST</th>\n",
       "      <th>STATUS</th>\n",
       "      <th>JOB FAMILY</th>\n",
       "      <th>Unnamed: 14</th>\n",
       "      <th>Unnamed: 15</th>\n",
       "    </tr>\n",
       "  </thead>\n",
       "  <tbody>\n",
       "    <tr>\n",
       "      <th>0</th>\n",
       "      <td>1</td>\n",
       "      <td>120180321</td>\n",
       "      <td>CFU CONSUMER</td>\n",
       "      <td>DIV-TR7</td>\n",
       "      <td>NURFAINI ROFIFAH</td>\n",
       "      <td>-120180321</td>\n",
       "      <td>HCBP 1</td>\n",
       "      <td>9 Core Element of Marketing</td>\n",
       "      <td>2020-01-24</td>\n",
       "      <td>40</td>\n",
       "      <td>-</td>\n",
       "      <td>-</td>\n",
       "      <td>BELUM AKSES</td>\n",
       "      <td>EL - Commerce &amp;amp; Relations</td>\n",
       "      <td>NaN</td>\n",
       "      <td>NaN</td>\n",
       "    </tr>\n",
       "    <tr>\n",
       "      <th>1</th>\n",
       "      <td>1</td>\n",
       "      <td>625140</td>\n",
       "      <td>CFU CONSUMER</td>\n",
       "      <td>DIV-TR2</td>\n",
       "      <td>SAMAD PANENGKE</td>\n",
       "      <td>-625140</td>\n",
       "      <td>HCBP 1</td>\n",
       "      <td>PT - 2 Project</td>\n",
       "      <td>2020-01-29</td>\n",
       "      <td>80</td>\n",
       "      <td>2020-01-31</td>\n",
       "      <td>100</td>\n",
       "      <td>LULUS</td>\n",
       "      <td>NaN</td>\n",
       "      <td>NaN</td>\n",
       "      <td>NaN</td>\n",
       "    </tr>\n",
       "    <tr>\n",
       "      <th>2</th>\n",
       "      <td>1</td>\n",
       "      <td>625143</td>\n",
       "      <td>CFU CONSUMER</td>\n",
       "      <td>DIV-TR2</td>\n",
       "      <td>DEDI SARDANI</td>\n",
       "      <td>-625143</td>\n",
       "      <td>HCBP 1</td>\n",
       "      <td>CX Transformation Program Behavior Skill Techn...</td>\n",
       "      <td>2020-01-27</td>\n",
       "      <td>70</td>\n",
       "      <td>2020-01-28</td>\n",
       "      <td>93.33</td>\n",
       "      <td>LULUS</td>\n",
       "      <td>NaN</td>\n",
       "      <td>NaN</td>\n",
       "      <td>NaN</td>\n",
       "    </tr>\n",
       "    <tr>\n",
       "      <th>3</th>\n",
       "      <td>1</td>\n",
       "      <td>625143</td>\n",
       "      <td>CFU CONSUMER</td>\n",
       "      <td>DIV-TR2</td>\n",
       "      <td>DEDI SARDANI</td>\n",
       "      <td>-625143</td>\n",
       "      <td>HCBP 1</td>\n",
       "      <td>CX Transformation Program Behavior Skill Techn...</td>\n",
       "      <td>2020-01-27</td>\n",
       "      <td>40</td>\n",
       "      <td>2020-01-28</td>\n",
       "      <td>100</td>\n",
       "      <td>LULUS</td>\n",
       "      <td>NaN</td>\n",
       "      <td>NaN</td>\n",
       "      <td>NaN</td>\n",
       "    </tr>\n",
       "    <tr>\n",
       "      <th>4</th>\n",
       "      <td>1</td>\n",
       "      <td>625143</td>\n",
       "      <td>CFU CONSUMER</td>\n",
       "      <td>DIV-TR2</td>\n",
       "      <td>DEDI SARDANI</td>\n",
       "      <td>-625143</td>\n",
       "      <td>HCBP 1</td>\n",
       "      <td>DigiERP</td>\n",
       "      <td>2020-01-28</td>\n",
       "      <td>80</td>\n",
       "      <td>2020-01-28</td>\n",
       "      <td>85</td>\n",
       "      <td>LULUS</td>\n",
       "      <td>NaN</td>\n",
       "      <td>NaN</td>\n",
       "      <td>NaN</td>\n",
       "    </tr>\n",
       "    <tr>\n",
       "      <th>5</th>\n",
       "      <td>1</td>\n",
       "      <td>625146</td>\n",
       "      <td>CFU CONSUMER</td>\n",
       "      <td>DIV-TR2</td>\n",
       "      <td>BAHRUDIN</td>\n",
       "      <td>-625146</td>\n",
       "      <td>HCBP 1</td>\n",
       "      <td>CX Transformation Program Behavior Skill Techn...</td>\n",
       "      <td>2020-01-22</td>\n",
       "      <td>90</td>\n",
       "      <td>2020-01-22</td>\n",
       "      <td>93.33</td>\n",
       "      <td>LULUS</td>\n",
       "      <td>NaN</td>\n",
       "      <td>NaN</td>\n",
       "      <td>NaN</td>\n",
       "    </tr>\n",
       "    <tr>\n",
       "      <th>6</th>\n",
       "      <td>1</td>\n",
       "      <td>625146</td>\n",
       "      <td>CFU CONSUMER</td>\n",
       "      <td>DIV-TR2</td>\n",
       "      <td>BAHRUDIN</td>\n",
       "      <td>-625146</td>\n",
       "      <td>HCBP 1</td>\n",
       "      <td>CX Transformation Program Behavior Skill Techn...</td>\n",
       "      <td>2020-01-22</td>\n",
       "      <td>80</td>\n",
       "      <td>2020-01-22</td>\n",
       "      <td>80</td>\n",
       "      <td>LULUS</td>\n",
       "      <td>NaN</td>\n",
       "      <td>NaN</td>\n",
       "      <td>NaN</td>\n",
       "    </tr>\n",
       "    <tr>\n",
       "      <th>7</th>\n",
       "      <td>1</td>\n",
       "      <td>625146</td>\n",
       "      <td>CFU CONSUMER</td>\n",
       "      <td>DIV-TR2</td>\n",
       "      <td>BAHRUDIN</td>\n",
       "      <td>-625146</td>\n",
       "      <td>HCBP 1</td>\n",
       "      <td>DigiERP</td>\n",
       "      <td>2020-01-22</td>\n",
       "      <td>80</td>\n",
       "      <td>2020-01-22</td>\n",
       "      <td>85</td>\n",
       "      <td>LULUS</td>\n",
       "      <td>NaN</td>\n",
       "      <td>NaN</td>\n",
       "      <td>NaN</td>\n",
       "    </tr>\n",
       "    <tr>\n",
       "      <th>8</th>\n",
       "      <td>1</td>\n",
       "      <td>625154</td>\n",
       "      <td>CFU CONSUMER</td>\n",
       "      <td>DIV-TR2</td>\n",
       "      <td>MUHIZAT SYEH IRIANTO</td>\n",
       "      <td>-625154</td>\n",
       "      <td>HCBP 1</td>\n",
       "      <td>CX Transformation Program Behavior Skill Techn...</td>\n",
       "      <td>2020-01-23</td>\n",
       "      <td>80</td>\n",
       "      <td>2020-01-28</td>\n",
       "      <td>73.33</td>\n",
       "      <td>LULUS</td>\n",
       "      <td>NaN</td>\n",
       "      <td>NaN</td>\n",
       "      <td>NaN</td>\n",
       "    </tr>\n",
       "    <tr>\n",
       "      <th>9</th>\n",
       "      <td>1</td>\n",
       "      <td>625154</td>\n",
       "      <td>CFU CONSUMER</td>\n",
       "      <td>DIV-TR2</td>\n",
       "      <td>MUHIZAT SYEH IRIANTO</td>\n",
       "      <td>-625154</td>\n",
       "      <td>HCBP 1</td>\n",
       "      <td>CX Transformation Program Behavior Skill Techn...</td>\n",
       "      <td>2020-01-23</td>\n",
       "      <td>90</td>\n",
       "      <td>2020-01-28</td>\n",
       "      <td>86.67</td>\n",
       "      <td>LULUS</td>\n",
       "      <td>NaN</td>\n",
       "      <td>NaN</td>\n",
       "      <td>NaN</td>\n",
       "    </tr>\n",
       "  </tbody>\n",
       "</table>\n",
       "</div>"
      ],
      "text/plain": [
       "   BULAN   USERNAME        CFU/FU   DIVISI                  NAME     SURNAME  \\\n",
       "0      1  120180321  CFU CONSUMER  DIV-TR7      NURFAINI ROFIFAH  -120180321   \n",
       "1      1     625140  CFU CONSUMER  DIV-TR2        SAMAD PANENGKE     -625140   \n",
       "2      1     625143  CFU CONSUMER  DIV-TR2          DEDI SARDANI     -625143   \n",
       "3      1     625143  CFU CONSUMER  DIV-TR2          DEDI SARDANI     -625143   \n",
       "4      1     625143  CFU CONSUMER  DIV-TR2          DEDI SARDANI     -625143   \n",
       "5      1     625146  CFU CONSUMER  DIV-TR2              BAHRUDIN     -625146   \n",
       "6      1     625146  CFU CONSUMER  DIV-TR2              BAHRUDIN     -625146   \n",
       "7      1     625146  CFU CONSUMER  DIV-TR2              BAHRUDIN     -625146   \n",
       "8      1     625154  CFU CONSUMER  DIV-TR2  MUHIZAT SYEH IRIANTO     -625154   \n",
       "9      1     625154  CFU CONSUMER  DIV-TR2  MUHIZAT SYEH IRIANTO     -625154   \n",
       "\n",
       "     HCBP                                             COURSE TGL PRE TEST  \\\n",
       "0  HCBP 1                        9 Core Element of Marketing   2020-01-24   \n",
       "1  HCBP 1                                     PT - 2 Project   2020-01-29   \n",
       "2  HCBP 1  CX Transformation Program Behavior Skill Techn...   2020-01-27   \n",
       "3  HCBP 1  CX Transformation Program Behavior Skill Techn...   2020-01-27   \n",
       "4  HCBP 1                                            DigiERP   2020-01-28   \n",
       "5  HCBP 1  CX Transformation Program Behavior Skill Techn...   2020-01-22   \n",
       "6  HCBP 1  CX Transformation Program Behavior Skill Techn...   2020-01-22   \n",
       "7  HCBP 1                                            DigiERP   2020-01-22   \n",
       "8  HCBP 1  CX Transformation Program Behavior Skill Techn...   2020-01-23   \n",
       "9  HCBP 1  CX Transformation Program Behavior Skill Techn...   2020-01-23   \n",
       "\n",
       "  PRE TEST TGL POST TEST POST TEST       STATUS  \\\n",
       "0       40             -         -  BELUM AKSES   \n",
       "1       80    2020-01-31       100        LULUS   \n",
       "2       70    2020-01-28     93.33        LULUS   \n",
       "3       40    2020-01-28       100        LULUS   \n",
       "4       80    2020-01-28        85        LULUS   \n",
       "5       90    2020-01-22     93.33        LULUS   \n",
       "6       80    2020-01-22        80        LULUS   \n",
       "7       80    2020-01-22        85        LULUS   \n",
       "8       80    2020-01-28     73.33        LULUS   \n",
       "9       90    2020-01-28     86.67        LULUS   \n",
       "\n",
       "                      JOB FAMILY Unnamed: 14 Unnamed: 15  \n",
       "0  EL - Commerce &amp; Relations         NaN         NaN  \n",
       "1                            NaN         NaN         NaN  \n",
       "2                            NaN         NaN         NaN  \n",
       "3                            NaN         NaN         NaN  \n",
       "4                            NaN         NaN         NaN  \n",
       "5                            NaN         NaN         NaN  \n",
       "6                            NaN         NaN         NaN  \n",
       "7                            NaN         NaN         NaN  \n",
       "8                            NaN         NaN         NaN  \n",
       "9                            NaN         NaN         NaN  "
      ]
     },
     "execution_count": 1,
     "metadata": {},
     "output_type": "execute_result"
    }
   ],
   "source": [
    "# importing libraries\n",
    "import numpy as np\n",
    "import pandas as pd\n",
    "import matplotlib as mpl\n",
    "import matplotlib.pyplot as plt\n",
    "import folium\n",
    "mpl.style.use(['ggplot'])\n",
    "\n",
    "%matplotlib inline\n",
    "\n",
    "# reading csv data\n",
    "feedback_elearning = pd.read_csv('dataset/ELearn_2020.csv')\n",
    "feedback_elearning.head(10)"
   ]
  },
  {
   "cell_type": "code",
   "execution_count": 2,
   "metadata": {},
   "outputs": [
    {
     "data": {
      "text/html": [
       "<div>\n",
       "<style scoped>\n",
       "    .dataframe tbody tr th:only-of-type {\n",
       "        vertical-align: middle;\n",
       "    }\n",
       "\n",
       "    .dataframe tbody tr th {\n",
       "        vertical-align: top;\n",
       "    }\n",
       "\n",
       "    .dataframe thead th {\n",
       "        text-align: right;\n",
       "    }\n",
       "</style>\n",
       "<table border=\"1\" class=\"dataframe\">\n",
       "  <thead>\n",
       "    <tr style=\"text-align: right;\">\n",
       "      <th></th>\n",
       "      <th>BULAN</th>\n",
       "      <th>USERNAME</th>\n",
       "      <th>CFU/FU</th>\n",
       "      <th>DIVISI</th>\n",
       "      <th>NAME</th>\n",
       "      <th>SURNAME</th>\n",
       "      <th>HCBP</th>\n",
       "      <th>COURSE</th>\n",
       "      <th>TGL PRE TEST</th>\n",
       "      <th>PRE TEST</th>\n",
       "      <th>TGL POST TEST</th>\n",
       "      <th>POST TEST</th>\n",
       "      <th>STATUS</th>\n",
       "      <th>JOB FAMILY</th>\n",
       "      <th>Unnamed: 14</th>\n",
       "      <th>Unnamed: 15</th>\n",
       "    </tr>\n",
       "  </thead>\n",
       "  <tbody>\n",
       "    <tr>\n",
       "      <th>0</th>\n",
       "      <td>1</td>\n",
       "      <td>120180321</td>\n",
       "      <td>CFU CONSUMER</td>\n",
       "      <td>DIV-TR7</td>\n",
       "      <td>NURFAINI ROFIFAH</td>\n",
       "      <td>-120180321</td>\n",
       "      <td>HCBP 1</td>\n",
       "      <td>9 Core Element of Marketing</td>\n",
       "      <td>2020-01-24</td>\n",
       "      <td>40</td>\n",
       "      <td>-</td>\n",
       "      <td>-</td>\n",
       "      <td>BELUM AKSES</td>\n",
       "      <td>EL - Commerce &amp;amp; Relations</td>\n",
       "      <td>NaN</td>\n",
       "      <td>NaN</td>\n",
       "    </tr>\n",
       "    <tr>\n",
       "      <th>1</th>\n",
       "      <td>1</td>\n",
       "      <td>625140</td>\n",
       "      <td>CFU CONSUMER</td>\n",
       "      <td>DIV-TR2</td>\n",
       "      <td>SAMAD PANENGKE</td>\n",
       "      <td>-625140</td>\n",
       "      <td>HCBP 1</td>\n",
       "      <td>PT - 2 Project</td>\n",
       "      <td>2020-01-29</td>\n",
       "      <td>80</td>\n",
       "      <td>2020-01-31</td>\n",
       "      <td>100</td>\n",
       "      <td>LULUS</td>\n",
       "      <td>NaN</td>\n",
       "      <td>NaN</td>\n",
       "      <td>NaN</td>\n",
       "    </tr>\n",
       "    <tr>\n",
       "      <th>2</th>\n",
       "      <td>1</td>\n",
       "      <td>625143</td>\n",
       "      <td>CFU CONSUMER</td>\n",
       "      <td>DIV-TR2</td>\n",
       "      <td>DEDI SARDANI</td>\n",
       "      <td>-625143</td>\n",
       "      <td>HCBP 1</td>\n",
       "      <td>CX Transformation Program Behavior Skill Techn...</td>\n",
       "      <td>2020-01-27</td>\n",
       "      <td>70</td>\n",
       "      <td>2020-01-28</td>\n",
       "      <td>93.33</td>\n",
       "      <td>LULUS</td>\n",
       "      <td>NaN</td>\n",
       "      <td>NaN</td>\n",
       "      <td>NaN</td>\n",
       "    </tr>\n",
       "    <tr>\n",
       "      <th>3</th>\n",
       "      <td>1</td>\n",
       "      <td>625143</td>\n",
       "      <td>CFU CONSUMER</td>\n",
       "      <td>DIV-TR2</td>\n",
       "      <td>DEDI SARDANI</td>\n",
       "      <td>-625143</td>\n",
       "      <td>HCBP 1</td>\n",
       "      <td>CX Transformation Program Behavior Skill Techn...</td>\n",
       "      <td>2020-01-27</td>\n",
       "      <td>40</td>\n",
       "      <td>2020-01-28</td>\n",
       "      <td>100</td>\n",
       "      <td>LULUS</td>\n",
       "      <td>NaN</td>\n",
       "      <td>NaN</td>\n",
       "      <td>NaN</td>\n",
       "    </tr>\n",
       "    <tr>\n",
       "      <th>4</th>\n",
       "      <td>1</td>\n",
       "      <td>625143</td>\n",
       "      <td>CFU CONSUMER</td>\n",
       "      <td>DIV-TR2</td>\n",
       "      <td>DEDI SARDANI</td>\n",
       "      <td>-625143</td>\n",
       "      <td>HCBP 1</td>\n",
       "      <td>DigiERP</td>\n",
       "      <td>2020-01-28</td>\n",
       "      <td>80</td>\n",
       "      <td>2020-01-28</td>\n",
       "      <td>85</td>\n",
       "      <td>LULUS</td>\n",
       "      <td>NaN</td>\n",
       "      <td>NaN</td>\n",
       "      <td>NaN</td>\n",
       "    </tr>\n",
       "    <tr>\n",
       "      <th>...</th>\n",
       "      <td>...</td>\n",
       "      <td>...</td>\n",
       "      <td>...</td>\n",
       "      <td>...</td>\n",
       "      <td>...</td>\n",
       "      <td>...</td>\n",
       "      <td>...</td>\n",
       "      <td>...</td>\n",
       "      <td>...</td>\n",
       "      <td>...</td>\n",
       "      <td>...</td>\n",
       "      <td>...</td>\n",
       "      <td>...</td>\n",
       "      <td>...</td>\n",
       "      <td>...</td>\n",
       "      <td>...</td>\n",
       "    </tr>\n",
       "    <tr>\n",
       "      <th>289052</th>\n",
       "      <td>11</td>\n",
       "      <td>csr29872</td>\n",
       "      <td>T</td>\n",
       "      <td>T</td>\n",
       "      <td>STEVANO LACARUS BOLLY</td>\n",
       "      <td>csr29872</td>\n",
       "      <td>T</td>\n",
       "      <td>Consultative Selling New</td>\n",
       "      <td>2020-11-18</td>\n",
       "      <td>14:48:53</td>\n",
       "      <td>80</td>\n",
       "      <td>2020-11-18</td>\n",
       "      <td>14:55:47</td>\n",
       "      <td>90</td>\n",
       "      <td>LULUS</td>\n",
       "      <td>NaN</td>\n",
       "    </tr>\n",
       "    <tr>\n",
       "      <th>289053</th>\n",
       "      <td>11</td>\n",
       "      <td>890109</td>\n",
       "      <td>CEO OFFICE</td>\n",
       "      <td>DEP-INA</td>\n",
       "      <td>SAMUEL P. SIMANJUNTAK</td>\n",
       "      <td>890109</td>\n",
       "      <td>HCBP 5</td>\n",
       "      <td>AKHLAK &amp; Telkom CODES</td>\n",
       "      <td>2020-11-19</td>\n",
       "      <td>13:57:57</td>\n",
       "      <td>90</td>\n",
       "      <td>2020-11-19</td>\n",
       "      <td>14:16:02</td>\n",
       "      <td>90</td>\n",
       "      <td>LULUS</td>\n",
       "      <td>NaN</td>\n",
       "    </tr>\n",
       "    <tr>\n",
       "      <th>289054</th>\n",
       "      <td>11</td>\n",
       "      <td>220046</td>\n",
       "      <td>CFU MOBILE</td>\n",
       "      <td>JVC-TSL</td>\n",
       "      <td>DINDA NOVITASARI</td>\n",
       "      <td>220046</td>\n",
       "      <td>HCBP 1</td>\n",
       "      <td>AKHLAK &amp; Telkom CODES</td>\n",
       "      <td>2020-11-24</td>\n",
       "      <td>17:02:23</td>\n",
       "      <td>80</td>\n",
       "      <td>2020-11-24</td>\n",
       "      <td>17:11:37</td>\n",
       "      <td>90</td>\n",
       "      <td>LULUS</td>\n",
       "      <td>NaN</td>\n",
       "    </tr>\n",
       "    <tr>\n",
       "      <th>289055</th>\n",
       "      <td>11</td>\n",
       "      <td>905644</td>\n",
       "      <td>CFU ENTERPRISE</td>\n",
       "      <td>JVC-ADM</td>\n",
       "      <td>DAMIANUS DANNY</td>\n",
       "      <td>905644</td>\n",
       "      <td>HCBP 2</td>\n",
       "      <td>AKHLAK &amp; Telkom CODES</td>\n",
       "      <td>2020-11-30</td>\n",
       "      <td>15:12:00</td>\n",
       "      <td>80</td>\n",
       "      <td>2020-11-30</td>\n",
       "      <td>15:18:35</td>\n",
       "      <td>80</td>\n",
       "      <td>LULUS</td>\n",
       "      <td>NaN</td>\n",
       "    </tr>\n",
       "    <tr>\n",
       "      <th>289056</th>\n",
       "      <td>11</td>\n",
       "      <td>885646</td>\n",
       "      <td>CFU ENTERPRISE</td>\n",
       "      <td>JVC-ADM</td>\n",
       "      <td>RUTH NATASHIA PRATIWI</td>\n",
       "      <td>885646</td>\n",
       "      <td>HCBP 2</td>\n",
       "      <td>AKHLAK &amp; Telkom CODES</td>\n",
       "      <td>2020-11-30</td>\n",
       "      <td>20:42:48</td>\n",
       "      <td>60</td>\n",
       "      <td>2020-11-30</td>\n",
       "      <td>21:10:14</td>\n",
       "      <td>90</td>\n",
       "      <td>LULUS</td>\n",
       "      <td>NaN</td>\n",
       "    </tr>\n",
       "  </tbody>\n",
       "</table>\n",
       "<p>289057 rows × 16 columns</p>\n",
       "</div>"
      ],
      "text/plain": [
       "        BULAN   USERNAME          CFU/FU   DIVISI                   NAME  \\\n",
       "0           1  120180321    CFU CONSUMER  DIV-TR7       NURFAINI ROFIFAH   \n",
       "1           1     625140    CFU CONSUMER  DIV-TR2         SAMAD PANENGKE   \n",
       "2           1     625143    CFU CONSUMER  DIV-TR2           DEDI SARDANI   \n",
       "3           1     625143    CFU CONSUMER  DIV-TR2           DEDI SARDANI   \n",
       "4           1     625143    CFU CONSUMER  DIV-TR2           DEDI SARDANI   \n",
       "...       ...        ...             ...      ...                    ...   \n",
       "289052     11   csr29872               T        T  STEVANO LACARUS BOLLY   \n",
       "289053     11     890109      CEO OFFICE  DEP-INA  SAMUEL P. SIMANJUNTAK   \n",
       "289054     11     220046      CFU MOBILE  JVC-TSL       DINDA NOVITASARI   \n",
       "289055     11     905644  CFU ENTERPRISE  JVC-ADM         DAMIANUS DANNY   \n",
       "289056     11     885646  CFU ENTERPRISE  JVC-ADM  RUTH NATASHIA PRATIWI   \n",
       "\n",
       "           SURNAME    HCBP                                             COURSE  \\\n",
       "0       -120180321  HCBP 1                        9 Core Element of Marketing   \n",
       "1          -625140  HCBP 1                                     PT - 2 Project   \n",
       "2          -625143  HCBP 1  CX Transformation Program Behavior Skill Techn...   \n",
       "3          -625143  HCBP 1  CX Transformation Program Behavior Skill Techn...   \n",
       "4          -625143  HCBP 1                                            DigiERP   \n",
       "...            ...     ...                                                ...   \n",
       "289052    csr29872       T                           Consultative Selling New   \n",
       "289053      890109  HCBP 5                              AKHLAK & Telkom CODES   \n",
       "289054      220046  HCBP 1                              AKHLAK & Telkom CODES   \n",
       "289055      905644  HCBP 2                              AKHLAK & Telkom CODES   \n",
       "289056      885646  HCBP 2                              AKHLAK & Telkom CODES   \n",
       "\n",
       "       TGL PRE TEST  PRE TEST TGL POST TEST   POST TEST       STATUS  \\\n",
       "0        2020-01-24        40             -           -  BELUM AKSES   \n",
       "1        2020-01-29        80    2020-01-31         100        LULUS   \n",
       "2        2020-01-27        70    2020-01-28       93.33        LULUS   \n",
       "3        2020-01-27        40    2020-01-28         100        LULUS   \n",
       "4        2020-01-28        80    2020-01-28          85        LULUS   \n",
       "...             ...       ...           ...         ...          ...   \n",
       "289052   2020-11-18  14:48:53            80  2020-11-18     14:55:47   \n",
       "289053   2020-11-19  13:57:57            90  2020-11-19     14:16:02   \n",
       "289054   2020-11-24  17:02:23            80  2020-11-24     17:11:37   \n",
       "289055   2020-11-30  15:12:00            80  2020-11-30     15:18:35   \n",
       "289056   2020-11-30  20:42:48            60  2020-11-30     21:10:14   \n",
       "\n",
       "                           JOB FAMILY Unnamed: 14 Unnamed: 15  \n",
       "0       EL - Commerce &amp; Relations         NaN         NaN  \n",
       "1                                 NaN         NaN         NaN  \n",
       "2                                 NaN         NaN         NaN  \n",
       "3                                 NaN         NaN         NaN  \n",
       "4                                 NaN         NaN         NaN  \n",
       "...                               ...         ...         ...  \n",
       "289052                             90       LULUS         NaN  \n",
       "289053                             90       LULUS         NaN  \n",
       "289054                             90       LULUS         NaN  \n",
       "289055                             80       LULUS         NaN  \n",
       "289056                             90       LULUS         NaN  \n",
       "\n",
       "[289057 rows x 16 columns]"
      ]
     },
     "execution_count": 2,
     "metadata": {},
     "output_type": "execute_result"
    }
   ],
   "source": [
    "feedback_elearning = feedback_elearning.rename(columns={'Month': 'Monthssss'})\n",
    "feedback_elearning"
   ]
  },
  {
   "cell_type": "code",
   "execution_count": 3,
   "metadata": {},
   "outputs": [],
   "source": [
    "feedback_elearning.drop(['Unnamed: 14', 'Unnamed: 15'], axis=1, inplace=True)"
   ]
  },
  {
   "cell_type": "code",
   "execution_count": 4,
   "metadata": {},
   "outputs": [
    {
     "data": {
      "text/plain": [
       "289047    12:23:39\n",
       "289048    13:10:44\n",
       "289049    12:00:29\n",
       "289050    10:39:35\n",
       "289051    17:43:12\n",
       "289052    14:48:53\n",
       "289053    13:57:57\n",
       "289054    17:02:23\n",
       "289055    15:12:00\n",
       "289056    20:42:48\n",
       "Name: PRE TEST, dtype: object"
      ]
     },
     "execution_count": 4,
     "metadata": {},
     "output_type": "execute_result"
    }
   ],
   "source": [
    "feedback_elearning['PRE TEST'].tail(10)\n",
    "# .tail(30)"
   ]
  },
  {
   "cell_type": "code",
   "execution_count": 5,
   "metadata": {},
   "outputs": [
    {
     "name": "stderr",
     "output_type": "stream",
     "text": [
      "<ipython-input-5-857f48a49a02>:2: SettingWithCopyWarning: \n",
      "A value is trying to be set on a copy of a slice from a DataFrame\n",
      "\n",
      "See the caveats in the documentation: https://pandas.pydata.org/pandas-docs/stable/user_guide/indexing.html#returning-a-view-versus-a-copy\n",
      "  feedback_elearning['STATUS'][feedback_elearning.STATUS != 'LULUS'] = feedback_elearning['STATUS'][feedback_elearning.STATUS != 'LULUS'] = 'TIDAK LULUS'\n"
     ]
    },
    {
     "data": {
      "text/plain": [
       "LULUS          164064\n",
       "TIDAK LULUS    124993\n",
       "Name: STATUS, dtype: int64"
      ]
     },
     "execution_count": 5,
     "metadata": {},
     "output_type": "execute_result"
    }
   ],
   "source": [
    "# cleansing feature status\n",
    "feedback_elearning['STATUS'][feedback_elearning.STATUS != 'LULUS'] = feedback_elearning['STATUS'][feedback_elearning.STATUS != 'LULUS'] = 'TIDAK LULUS'\n",
    "feedback_elearning['STATUS'].value_counts().head(100)"
   ]
  },
  {
   "cell_type": "code",
   "execution_count": 6,
   "metadata": {},
   "outputs": [
    {
     "data": {
      "text/plain": [
       "BULAN                0\n",
       "USERNAME             0\n",
       "CFU/FU             138\n",
       "DIVISI             139\n",
       "NAME                 3\n",
       "SURNAME              0\n",
       "HCBP               315\n",
       "COURSE               0\n",
       "TGL PRE TEST      4147\n",
       "PRE TEST          4147\n",
       "TGL POST TEST     4147\n",
       "POST TEST            0\n",
       "STATUS               0\n",
       "JOB FAMILY       99583\n",
       "dtype: int64"
      ]
     },
     "execution_count": 6,
     "metadata": {},
     "output_type": "execute_result"
    }
   ],
   "source": [
    "feedback_elearning.isna().sum()"
   ]
  },
  {
   "cell_type": "code",
   "execution_count": 7,
   "metadata": {},
   "outputs": [],
   "source": [
    "# change all 'object' to numeric method 1\n",
    "feedback_elearning['PRE TEST'] = pd.to_numeric(feedback_elearning['PRE TEST'], errors='coerce')\n",
    "feedback_elearning['POST TEST'] = pd.to_numeric(feedback_elearning['POST TEST'], errors='coerce')"
   ]
  },
  {
   "cell_type": "code",
   "execution_count": null,
   "metadata": {},
   "outputs": [],
   "source": []
  },
  {
   "cell_type": "code",
   "execution_count": 8,
   "metadata": {},
   "outputs": [
    {
     "data": {
      "text/html": [
       "<div>\n",
       "<style scoped>\n",
       "    .dataframe tbody tr th:only-of-type {\n",
       "        vertical-align: middle;\n",
       "    }\n",
       "\n",
       "    .dataframe tbody tr th {\n",
       "        vertical-align: top;\n",
       "    }\n",
       "\n",
       "    .dataframe thead th {\n",
       "        text-align: right;\n",
       "    }\n",
       "</style>\n",
       "<table border=\"1\" class=\"dataframe\">\n",
       "  <thead>\n",
       "    <tr style=\"text-align: right;\">\n",
       "      <th></th>\n",
       "      <th>PRE TEST</th>\n",
       "      <th>POST TEST</th>\n",
       "      <th>STATUS</th>\n",
       "    </tr>\n",
       "  </thead>\n",
       "  <tbody>\n",
       "    <tr>\n",
       "      <th>1</th>\n",
       "      <td>80.0</td>\n",
       "      <td>100.00</td>\n",
       "      <td>LULUS</td>\n",
       "    </tr>\n",
       "    <tr>\n",
       "      <th>2</th>\n",
       "      <td>70.0</td>\n",
       "      <td>93.33</td>\n",
       "      <td>LULUS</td>\n",
       "    </tr>\n",
       "    <tr>\n",
       "      <th>3</th>\n",
       "      <td>40.0</td>\n",
       "      <td>100.00</td>\n",
       "      <td>LULUS</td>\n",
       "    </tr>\n",
       "    <tr>\n",
       "      <th>4</th>\n",
       "      <td>80.0</td>\n",
       "      <td>85.00</td>\n",
       "      <td>LULUS</td>\n",
       "    </tr>\n",
       "    <tr>\n",
       "      <th>5</th>\n",
       "      <td>90.0</td>\n",
       "      <td>93.33</td>\n",
       "      <td>LULUS</td>\n",
       "    </tr>\n",
       "    <tr>\n",
       "      <th>...</th>\n",
       "      <td>...</td>\n",
       "      <td>...</td>\n",
       "      <td>...</td>\n",
       "    </tr>\n",
       "    <tr>\n",
       "      <th>196285</th>\n",
       "      <td>30.0</td>\n",
       "      <td>50.00</td>\n",
       "      <td>TIDAK LULUS</td>\n",
       "    </tr>\n",
       "    <tr>\n",
       "      <th>196286</th>\n",
       "      <td>90.0</td>\n",
       "      <td>33.33</td>\n",
       "      <td>TIDAK LULUS</td>\n",
       "    </tr>\n",
       "    <tr>\n",
       "      <th>196287</th>\n",
       "      <td>50.0</td>\n",
       "      <td>83.33</td>\n",
       "      <td>LULUS</td>\n",
       "    </tr>\n",
       "    <tr>\n",
       "      <th>196288</th>\n",
       "      <td>100.0</td>\n",
       "      <td>90.00</td>\n",
       "      <td>LULUS</td>\n",
       "    </tr>\n",
       "    <tr>\n",
       "      <th>196289</th>\n",
       "      <td>40.0</td>\n",
       "      <td>60.00</td>\n",
       "      <td>TIDAK LULUS</td>\n",
       "    </tr>\n",
       "  </tbody>\n",
       "</table>\n",
       "<p>150166 rows × 3 columns</p>\n",
       "</div>"
      ],
      "text/plain": [
       "        PRE TEST  POST TEST       STATUS\n",
       "1           80.0     100.00        LULUS\n",
       "2           70.0      93.33        LULUS\n",
       "3           40.0     100.00        LULUS\n",
       "4           80.0      85.00        LULUS\n",
       "5           90.0      93.33        LULUS\n",
       "...          ...        ...          ...\n",
       "196285      30.0      50.00  TIDAK LULUS\n",
       "196286      90.0      33.33  TIDAK LULUS\n",
       "196287      50.0      83.33        LULUS\n",
       "196288     100.0      90.00        LULUS\n",
       "196289      40.0      60.00  TIDAK LULUS\n",
       "\n",
       "[150166 rows x 3 columns]"
      ]
     },
     "execution_count": 8,
     "metadata": {},
     "output_type": "execute_result"
    }
   ],
   "source": [
    "# df_data = pd.DataFrame\n",
    "df_data = pd.DataFrame(feedback_elearning)\n",
    "# df_data['POST TEST'] = pd.DataFrame(feedback_elearning['POST TEST'])\n",
    "# df_data['STATUS'] = pd.DataFrame(feedback_elearning['STATUS'])\n",
    "\n",
    "df_data.drop(['BULAN', 'USERNAME', 'CFU/FU', 'DIVISI', 'NAME', 'SURNAME', 'HCBP', 'COURSE', 'TGL PRE TEST', 'TGL POST TEST', 'JOB FAMILY'], axis=1, inplace=True)\n",
    "df_data.dropna(inplace=True)\n",
    "df_data"
   ]
  },
  {
   "cell_type": "code",
   "execution_count": 9,
   "metadata": {},
   "outputs": [
    {
     "name": "stdout",
     "output_type": "stream",
     "text": [
      "<class 'pandas.core.frame.DataFrame'>\n",
      "Int64Index: 150166 entries, 1 to 196289\n",
      "Data columns (total 3 columns):\n",
      " #   Column     Non-Null Count   Dtype  \n",
      "---  ------     --------------   -----  \n",
      " 0   PRE TEST   150166 non-null  float64\n",
      " 1   POST TEST  150166 non-null  float64\n",
      " 2   STATUS     150166 non-null  object \n",
      "dtypes: float64(2), object(1)\n",
      "memory usage: 4.0+ MB\n"
     ]
    }
   ],
   "source": [
    "df_data.info()"
   ]
  },
  {
   "cell_type": "markdown",
   "metadata": {},
   "source": [
    "# Logistic Regression"
   ]
  },
  {
   "cell_type": "code",
   "execution_count": 10,
   "metadata": {},
   "outputs": [],
   "source": [
    "# Prediksi lulus atau tidak lulus berdasarkan data nilai pre dan post test\n",
    "# data_x = pre dan post test\n",
    "# data_y = status"
   ]
  },
  {
   "cell_type": "code",
   "execution_count": 11,
   "metadata": {},
   "outputs": [],
   "source": [
    "import matplotlib.pyplot as plt\n",
    "import numpy as np\n",
    "\n",
    "from sklearn.linear_model import LogisticRegression\n",
    "from sklearn.model_selection import train_test_split\n",
    "from sklearn.metrics import classification_report, confusion_matrix\n",
    "from sklearn.datasets import load_digits\n",
    "from sklearn.preprocessing import StandardScaler\n",
    "from sklearn import metrics"
   ]
  },
  {
   "cell_type": "code",
   "execution_count": 12,
   "metadata": {},
   "outputs": [
    {
     "data": {
      "text/plain": [
       "['PRE TEST', 'POST TEST', 'STATUS']"
      ]
     },
     "execution_count": 12,
     "metadata": {},
     "output_type": "execute_result"
    }
   ],
   "source": [
    "list(df_data.columns)"
   ]
  },
  {
   "cell_type": "code",
   "execution_count": 13,
   "metadata": {},
   "outputs": [],
   "source": [
    "# Split data\n",
    "x_train, x_test, y_train, y_test = train_test_split(df_data[['PRE TEST']+['POST TEST']], df_data[['STATUS']], test_size=0.2, random_state=0)"
   ]
  },
  {
   "cell_type": "code",
   "execution_count": 14,
   "metadata": {},
   "outputs": [
    {
     "data": {
      "text/plain": [
       "((120132, 2), (30034, 2), (120132, 1), (30034, 1))"
      ]
     },
     "execution_count": 14,
     "metadata": {},
     "output_type": "execute_result"
    }
   ],
   "source": [
    "(x_train.shape, x_test.shape, y_train.shape, y_test.shape)"
   ]
  },
  {
   "cell_type": "code",
   "execution_count": 15,
   "metadata": {},
   "outputs": [],
   "source": [
    "scaler = StandardScaler()\n",
    "x_train = scaler.fit_transform(x_train)"
   ]
  },
  {
   "cell_type": "code",
   "execution_count": 16,
   "metadata": {},
   "outputs": [
    {
     "data": {
      "text/plain": [
       "(120132, 2)"
      ]
     },
     "execution_count": 16,
     "metadata": {},
     "output_type": "execute_result"
    }
   ],
   "source": [
    "x_train.shape"
   ]
  },
  {
   "cell_type": "code",
   "execution_count": 17,
   "metadata": {},
   "outputs": [
    {
     "name": "stderr",
     "output_type": "stream",
     "text": [
      "d:\\installation\\python38-32\\lib\\site-packages\\sklearn\\utils\\validation.py:63: DataConversionWarning: A column-vector y was passed when a 1d array was expected. Please change the shape of y to (n_samples, ), for example using ravel().\n",
      "  return f(*args, **kwargs)\n"
     ]
    },
    {
     "data": {
      "text/plain": [
       "LogisticRegression(random_state=0, solver='liblinear')"
      ]
     },
     "execution_count": 17,
     "metadata": {},
     "output_type": "execute_result"
    }
   ],
   "source": [
    "model = LogisticRegression(solver='liblinear', random_state=0)\n",
    "model.fit(x_train, y_train)"
   ]
  },
  {
   "cell_type": "code",
   "execution_count": 18,
   "metadata": {},
   "outputs": [
    {
     "data": {
      "text/plain": [
       "array(['LULUS', 'TIDAK LULUS'], dtype=object)"
      ]
     },
     "execution_count": 18,
     "metadata": {},
     "output_type": "execute_result"
    }
   ],
   "source": [
    "model.classes_"
   ]
  },
  {
   "cell_type": "code",
   "execution_count": 19,
   "metadata": {},
   "outputs": [],
   "source": [
    "x_test = scaler.transform(x_test)"
   ]
  },
  {
   "cell_type": "code",
   "execution_count": 20,
   "metadata": {},
   "outputs": [
    {
     "data": {
      "text/plain": [
       "array([[1.00000000e+00, 5.51118987e-13],\n",
       "       [9.99999980e-01, 1.96371262e-08],\n",
       "       [9.99999999e-01, 1.44453462e-09],\n",
       "       ...,\n",
       "       [1.00000000e+00, 1.06261996e-10],\n",
       "       [1.57874484e-06, 9.99998421e-01],\n",
       "       [9.99999934e-01, 6.55189780e-08]])"
      ]
     },
     "execution_count": 20,
     "metadata": {},
     "output_type": "execute_result"
    }
   ],
   "source": [
    "model.predict_proba(x_train)"
   ]
  },
  {
   "cell_type": "code",
   "execution_count": 21,
   "metadata": {},
   "outputs": [
    {
     "data": {
      "text/plain": [
       "array(['LULUS', 'LULUS', 'LULUS', ..., 'LULUS', 'LULUS', 'LULUS'],\n",
       "      dtype=object)"
      ]
     },
     "execution_count": 21,
     "metadata": {},
     "output_type": "execute_result"
    }
   ],
   "source": [
    "y_pred = model.predict(x_test)\n",
    "y_pred"
   ]
  },
  {
   "cell_type": "code",
   "execution_count": 22,
   "metadata": {},
   "outputs": [
    {
     "data": {
      "text/plain": [
       "0.9987929943728565"
      ]
     },
     "execution_count": 22,
     "metadata": {},
     "output_type": "execute_result"
    }
   ],
   "source": [
    "# akurasi data train\n",
    "model.score(x_train, y_train)\n",
    "# akurasi sebelum standardization: 0.998788007937882"
   ]
  },
  {
   "cell_type": "code",
   "execution_count": 23,
   "metadata": {},
   "outputs": [
    {
     "data": {
      "text/plain": [
       "0.9989345408536991"
      ]
     },
     "execution_count": 23,
     "metadata": {},
     "output_type": "execute_result"
    }
   ],
   "source": [
    "# akurasi data test\n",
    "# model.score(x_test, y_test) 0.9989345408536991\n",
    "metrics.accuracy_score(y_pred, y_test)"
   ]
  },
  {
   "cell_type": "code",
   "execution_count": 24,
   "metadata": {},
   "outputs": [
    {
     "data": {
      "text/plain": [
       "array([[26830,     0],\n",
       "       [   32,  3172]], dtype=int64)"
      ]
     },
     "execution_count": 24,
     "metadata": {},
     "output_type": "execute_result"
    }
   ],
   "source": [
    "confusion_matrix(y_test, y_pred)"
   ]
  },
  {
   "cell_type": "code",
   "execution_count": 25,
   "metadata": {},
   "outputs": [
    {
     "data": {
      "image/png": "[encoded data removed]",
      "text/plain": [
       "<Figure size 576x576 with 1 Axes>"
      ]
     },
     "metadata": {
      "needs_background": "light"
     },
     "output_type": "display_data"
    }
   ],
   "source": [
    "cm = confusion_matrix(y_test, y_pred)\n",
    "\n",
    "fig, ax = plt.subplots(figsize=(8, 8))\n",
    "ax.imshow(cm)\n",
    "ax.grid(False)\n",
    "ax.xaxis.set(ticks=(0, 1), ticklabels=('Predicted LULUS', 'Predicted TIDAK LULUS'))\n",
    "ax.yaxis.set(ticks=(0, 1), ticklabels=('Actual LULUS', 'Actual TIDAK LULUS'))\n",
    "ax.set_ylim(1.5, -0.5)\n",
    "for i in range(2):\n",
    "    for j in range(2):\n",
    "        ax.text(j, i, cm[i, j], ha='center', va='center', color='red')\n",
    "plt.show()"
   ]
  },
  {
   "cell_type": "markdown",
   "metadata": {},
   "source": [
    "# K-Nearest Neighbour"
   ]
  },
  {
   "cell_type": "code",
   "execution_count": 26,
   "metadata": {},
   "outputs": [],
   "source": [
    "# Prediksi lulus atau tidak lulus berdasarkan data nilai pre dan post test\n",
    "# data_x = pre dan post test\n",
    "# data_y = status"
   ]
  },
  {
   "cell_type": "code",
   "execution_count": 27,
   "metadata": {},
   "outputs": [],
   "source": [
    "from sklearn.model_selection import train_test_split\n",
    "from sklearn.neighbors import KNeighborsClassifier"
   ]
  },
  {
   "cell_type": "code",
   "execution_count": 28,
   "metadata": {},
   "outputs": [
    {
     "data": {
      "text/plain": [
       "((150166, 2), (150166, 1))"
      ]
     },
     "execution_count": 28,
     "metadata": {},
     "output_type": "execute_result"
    }
   ],
   "source": [
    "(df_data[['PRE TEST']+['POST TEST']].shape, df_data[['STATUS']].shape)"
   ]
  },
  {
   "cell_type": "code",
   "execution_count": 29,
   "metadata": {},
   "outputs": [],
   "source": [
    "# Split data\n",
    "# knn_x_train, knn_x_test, knn_y_train, knn_y_test = train_test_split(df_data['POST TEST'], df_data['STATUS'], test_size=0.2, random_state=0)\n",
    "knn_x_train, knn_x_test, knn_y_train, knn_y_test = train_test_split(df_data[['PRE TEST']+['POST TEST']], df_data['STATUS'], test_size=0.2, random_state=0)"
   ]
  },
  {
   "cell_type": "code",
   "execution_count": 30,
   "metadata": {},
   "outputs": [
    {
     "data": {
      "text/plain": [
       "((120132, 2), (30034, 2), (120132,), (30034,))"
      ]
     },
     "execution_count": 30,
     "metadata": {},
     "output_type": "execute_result"
    }
   ],
   "source": [
    "(knn_x_train.shape, knn_x_test.shape, knn_y_train.shape, knn_y_test.shape)"
   ]
  },
  {
   "cell_type": "code",
   "execution_count": 31,
   "metadata": {},
   "outputs": [],
   "source": [
    "#Create KNN Classifier\n",
    "knn = KNeighborsClassifier(n_neighbors=5)\n",
    "\n",
    "#Train the model using the training sets\n",
    "knn.fit(knn_x_train, knn_y_train)\n",
    "\n",
    "#Predict the response for test dataset\n",
    "y_pred_knn = knn.predict(knn_x_test)"
   ]
  },
  {
   "cell_type": "code",
   "execution_count": 32,
   "metadata": {},
   "outputs": [
    {
     "data": {
      "text/plain": [
       "0.9989345408536991"
      ]
     },
     "execution_count": 32,
     "metadata": {},
     "output_type": "execute_result"
    }
   ],
   "source": [
    "# Akurasi Model\n",
    "metrics.accuracy_score(y_pred_knn, knn_y_test)"
   ]
  },
  {
   "cell_type": "code",
   "execution_count": null,
   "metadata": {},
   "outputs": [],
   "source": []
  },
  {
   "cell_type": "markdown",
   "metadata": {},
   "source": [
    "# Support Vector Machine"
   ]
  },
  {
   "cell_type": "code",
   "execution_count": 33,
   "metadata": {},
   "outputs": [],
   "source": [
    "from sklearn import model_selection, svm\n",
    "from sklearn.metrics import accuracy_score\n",
    "\n"
   ]
  },
  {
   "cell_type": "code",
   "execution_count": 34,
   "metadata": {},
   "outputs": [
    {
     "data": {
      "text/plain": [
       "((150166, 2), (150166, 1))"
      ]
     },
     "execution_count": 34,
     "metadata": {},
     "output_type": "execute_result"
    }
   ],
   "source": [
    "(df_data[['PRE TEST']+['POST TEST']].shape, df_data[['STATUS']].shape)"
   ]
  },
  {
   "cell_type": "code",
   "execution_count": 35,
   "metadata": {},
   "outputs": [],
   "source": [
    "# Split data\n",
    "# knn_x_train, knn_x_test, knn_y_train, knn_y_test = train_test_split(df_data['POST TEST'], df_data['STATUS'], test_size=0.2, random_state=0)\n",
    "x_train_svm, x_test_svm, y_train_svm, y_test_svm = train_test_split(df_data[['PRE TEST']+['POST TEST']], df_data['STATUS'], test_size=0.2, random_state=0)"
   ]
  },
  {
   "cell_type": "code",
   "execution_count": 36,
   "metadata": {},
   "outputs": [],
   "source": [
    "#Create a svm Classifier\n",
    "clf = svm.SVC(kernel='linear') # Linear Kernel\n",
    "\n",
    "#Train the model using the training sets\n",
    "clf.fit(x_train_svm, y_train_svm) \n",
    "\n",
    "#Predict the response for test dataset\n",
    "y_pred_svm = clf.predict(x_test_svm)"
   ]
  },
  {
   "cell_type": "code",
   "execution_count": 37,
   "metadata": {},
   "outputs": [
    {
     "name": "stdout",
     "output_type": "stream",
     "text": [
      "Accuracy: 0.9971032829459945\n"
     ]
    }
   ],
   "source": [
    "# Model Accuracy: how often is the classifier correct?\n",
    "print(\"Accuracy:\", accuracy_score(y_test_svm, y_pred_svm))"
   ]
  },
  {
   "cell_type": "markdown",
   "metadata": {},
   "source": [
    "# Decision Tree"
   ]
  },
  {
   "cell_type": "code",
   "execution_count": 38,
   "metadata": {},
   "outputs": [],
   "source": [
    "from sklearn.tree import DecisionTreeClassifier # Import Decision Tree Classifier"
   ]
  },
  {
   "cell_type": "code",
   "execution_count": 39,
   "metadata": {},
   "outputs": [],
   "source": [
    "x_train_dt, x_test_dt, y_train_dt, y_test_dt = train_test_split(df_data[['PRE TEST']+['POST TEST']], df_data['STATUS'], test_size=0.2, random_state=0)"
   ]
  },
  {
   "cell_type": "code",
   "execution_count": 40,
   "metadata": {},
   "outputs": [],
   "source": [
    "# Create Decision Tree classifer object\n",
    "dct = DecisionTreeClassifier()\n",
    "\n",
    "# Train Decision Tree Classifer\n",
    "dct = dct.fit(x_train_dt,y_train_dt)\n",
    "\n",
    "#Predict the response for test dataset\n",
    "y_pred = dct.predict(x_test_dt)"
   ]
  },
  {
   "cell_type": "code",
   "execution_count": 41,
   "metadata": {},
   "outputs": [
    {
     "name": "stdout",
     "output_type": "stream",
     "text": [
      "Accuracy: 0.9990011320503429\n"
     ]
    }
   ],
   "source": [
    "# Model Accuracy, how often is the classifier correct?\n",
    "print(\"Accuracy:\",metrics.accuracy_score(y_test, y_pred))"
   ]
  },
  {
   "cell_type": "markdown",
   "metadata": {},
   "source": [
    "# Random Forest"
   ]
  },
  {
   "cell_type": "code",
   "execution_count": 42,
   "metadata": {},
   "outputs": [],
   "source": [
    "x_train_rf, x_test_rf, y_train_rf, y_test_rf = train_test_split(df_data[['PRE TEST']+['POST TEST']], df_data['STATUS'], test_size=0.2, random_state=0)"
   ]
  },
  {
   "cell_type": "code",
   "execution_count": 43,
   "metadata": {},
   "outputs": [],
   "source": [
    "#Import Random Forest Model\n",
    "from sklearn.ensemble import RandomForestClassifier\n",
    " \n",
    "#Create a Gaussian Classifier\n",
    "rfc=RandomForestClassifier(n_estimators=100)\n",
    " \n",
    "#Train the model using the training sets y_pred=clf.predict(X_test)\n",
    "rfc.fit(x_train_rf, y_train_rf) \n",
    "\n",
    "y_pred_rfc=rfc.predict(x_test_rf)"
   ]
  },
  {
   "cell_type": "code",
   "execution_count": 44,
   "metadata": {},
   "outputs": [
    {
     "name": "stdout",
     "output_type": "stream",
     "text": [
      "Accuracy Random Forest: 0.9990011320503429\n"
     ]
    }
   ],
   "source": [
    "# Model Accuracy, how often is the classifier correct?\n",
    "print(\"Accuracy Random Forest:\",metrics.accuracy_score(y_test_rf, y_pred_rfc))"
   ]
  },
  {
   "cell_type": "markdown",
   "metadata": {},
   "source": [
    "# Naive Bayes"
   ]
  },
  {
   "cell_type": "code",
   "execution_count": 45,
   "metadata": {},
   "outputs": [],
   "source": [
    "x_train_nbc, x_test_nbc, y_train_nbc, y_test_nbc = train_test_split(df_data[['PRE TEST']+['POST TEST']], df_data['STATUS'], test_size=0.2, random_state=0)"
   ]
  },
  {
   "cell_type": "code",
   "execution_count": 46,
   "metadata": {},
   "outputs": [
    {
     "data": {
      "text/plain": [
       "((120132, 2), (30034, 2), (120132,), (30034,))"
      ]
     },
     "execution_count": 46,
     "metadata": {},
     "output_type": "execute_result"
    }
   ],
   "source": [
    "(x_train_nbc.shape, x_test_nbc.shape, y_train_nbc.shape, y_test_nbc.shape)"
   ]
  },
  {
   "cell_type": "code",
   "execution_count": 47,
   "metadata": {},
   "outputs": [],
   "source": [
    "from sklearn.naive_bayes import GaussianNB \n",
    "nbc=GaussianNB()\n",
    "nbc.fit(x_train_nbc, y_train_nbc)\n",
    "(x_train_nbc.shape, y_train_nbc.shape)\n",
    "y_pred_nbc = nbc.predict(x_test_nbc)"
   ]
  },
  {
   "cell_type": "code",
   "execution_count": 48,
   "metadata": {},
   "outputs": [
    {
     "name": "stdout",
     "output_type": "stream",
     "text": [
      "        PRE TEST  POST TEST\n",
      "27662      80.00     100.00\n",
      "170366     90.00      86.67\n",
      "10430      90.00      90.00\n",
      "138803     63.33      90.00\n",
      "186241     40.00      93.33\n",
      "...          ...        ...\n",
      "57340      80.00      90.00\n",
      "128869     90.00      90.00\n",
      "126564     90.00      93.33\n",
      "156283     20.00      46.67\n",
      "59554      60.00      85.00\n",
      "\n",
      "[120132 rows x 2 columns]\n"
     ]
    }
   ],
   "source": [
    "print(x_train_nbc)"
   ]
  },
  {
   "cell_type": "code",
   "execution_count": 49,
   "metadata": {},
   "outputs": [
    {
     "name": "stdout",
     "output_type": "stream",
     "text": [
      "Accuracy Naive Bayes: 0.9913098488379836\n"
     ]
    }
   ],
   "source": [
    "# Model Accuracy, how often is the classifier correct?\n",
    "print(\"Accuracy Naive Bayes:\",metrics.accuracy_score(y_test_nbc, y_pred_nbc))"
   ]
  },
  {
   "cell_type": "markdown",
   "metadata": {},
   "source": [
    "# Confusion Matrix"
   ]
  },
  {
   "cell_type": "code",
   "execution_count": 50,
   "metadata": {},
   "outputs": [],
   "source": [
    "x_train_nbc, x_test_nbc, y_train_nbc, y_test_nbc = train_test_split(df_data[['PRE TEST']+['POST TEST']], df_data['STATUS'], test_size=0.2, random_state=0)"
   ]
  },
  {
   "cell_type": "code",
   "execution_count": 51,
   "metadata": {},
   "outputs": [],
   "source": [
    "from sklearn.metrics import confusion_matrix"
   ]
  },
  {
   "cell_type": "code",
   "execution_count": 52,
   "metadata": {},
   "outputs": [
    {
     "data": {
      "text/plain": [
       "array([[26755,    75],\n",
       "       [  186,  3018]], dtype=int64)"
      ]
     },
     "execution_count": 52,
     "metadata": {},
     "output_type": "execute_result"
    }
   ],
   "source": [
    "cm = confusion_matrix(y_test_nbc, y_pred_nbc)\n",
    "cm"
   ]
  },
  {
   "cell_type": "markdown",
   "metadata": {},
   "source": [
    "# Visualization"
   ]
  },
  {
   "cell_type": "markdown",
   "metadata": {},
   "source": [
    "Menganalisa Data menggunakan setidaknya 2 tipe grafik/plot"
   ]
  },
  {
   "cell_type": "markdown",
   "metadata": {},
   "source": [
    "### Visualisasi Confusion Matrix Algoritma Naive Bayes"
   ]
  },
  {
   "cell_type": "code",
   "execution_count": 53,
   "metadata": {},
   "outputs": [
    {
     "data": {
      "image/png": "[encoded data removed]",
      "text/plain": [
       "<Figure size 576x576 with 1 Axes>"
      ]
     },
     "metadata": {
      "needs_background": "light"
     },
     "output_type": "display_data"
    }
   ],
   "source": [
    "fig, ax = plt.subplots(figsize=(8, 8))\n",
    "ax.imshow(cm)\n",
    "ax.grid(False)\n",
    "ax.xaxis.set(ticks=(0, 1), ticklabels=('Predicted 0s', 'Predicted 1s'))\n",
    "ax.yaxis.set(ticks=(0, 1), ticklabels=('Actual 0s', 'Actual 1s'))\n",
    "ax.set_ylim(1.5, -0.5)\n",
    "for i in range(2):\n",
    "    for j in range(2):\n",
    "        ax.text(j, i, cm[i, j], ha='center', va='center', color='red')\n",
    "plt.show()"
   ]
  },
  {
   "cell_type": "markdown",
   "metadata": {},
   "source": [
    "### Visualisasi Error Rate K dari algoritma KNN"
   ]
  },
  {
   "cell_type": "code",
   "execution_count": 57,
   "metadata": {},
   "outputs": [
    {
     "data": {
      "text/plain": [
       "Text(0, 0.5, 'Error mean')"
      ]
     },
     "execution_count": 57,
     "metadata": {},
     "output_type": "execute_result"
    },
    {
     "data": {
      "image/png": "[encoded data removed]",
      "text/plain": [
       "<Figure size 864x432 with 1 Axes>"
      ]
     },
     "metadata": {
      "needs_background": "light"
     },
     "output_type": "display_data"
    }
   ],
   "source": [
    "error = []\n",
    "\n",
    "# Calculating error for K values between 1 and 40\n",
    "for i in range(1, 40):  \n",
    "    knn = KNeighborsClassifier(n_neighbors=i)\n",
    "    knn.fit(knn_x_train, knn_y_train)\n",
    "    pred_i = knn.predict(knn_x_test)\n",
    "    error.append(np.mean(pred_i != knn_y_test))\n",
    "    \n",
    "plt.figure(figsize=(12, 6))  \n",
    "plt.plot(range(1, 40), error, color='red', linestyle='dashed', marker='o',  \n",
    "         markerfacecolor='blue', markersize=10)\n",
    "plt.title('Error Rate K')  \n",
    "plt.xlabel('K')  \n",
    "plt.ylabel('Error mean')"
   ]
  },
  {
   "cell_type": "markdown",
   "metadata": {},
   "source": [
    "Error rate untuk K 1-40 masih sama di 0.001"
   ]
  },
  {
   "cell_type": "markdown",
   "metadata": {},
   "source": [
    "### Visualisasi Feature Importance dari algoritma Random Forest"
   ]
  },
  {
   "cell_type": "code",
   "execution_count": 55,
   "metadata": {},
   "outputs": [
    {
     "data": {
      "text/plain": [
       "POST TEST    0.954462\n",
       "PRE TEST     0.045538\n",
       "dtype: float64"
      ]
     },
     "execution_count": 55,
     "metadata": {},
     "output_type": "execute_result"
    }
   ],
   "source": [
    "feature_importance = pd.Series(rfc.feature_importances_, index=x_train_rf.columns).sort_values(ascending=False)\n",
    "feature_importance"
   ]
  },
  {
   "cell_type": "code",
   "execution_count": 56,
   "metadata": {},
   "outputs": [
    {
     "name": "stderr",
     "output_type": "stream",
     "text": [
      "No handles with labels found to put in legend.\n"
     ]
    },
    {
     "data": {
      "image/png": "[encoded data removed]",
      "text/plain": [
       "<Figure size 432x288 with 1 Axes>"
      ]
     },
     "metadata": {
      "needs_background": "light"
     },
     "output_type": "display_data"
    }
   ],
   "source": [
    "import matplotlib.pyplot as plt\n",
    "import seaborn as sns\n",
    "%matplotlib inline\n",
    "\n",
    "# Creating a bar plot\n",
    "sns.barplot(x=feature_importance, y=feature_importance.index)\n",
    "\n",
    "# Add labels to your graph\n",
    "plt.xlabel('Feature Importance Score')\n",
    "plt.ylabel('Features')\n",
    "plt.title(\"Visualizing Important Features\")\n",
    "plt.legend()\n",
    "plt.show()"
   ]
  },
  {
   "cell_type": "markdown",
   "metadata": {},
   "source": [
    "Fitur __Post Test__ jauh lebih penting untuk memprediksi nilai lulus atau tidak"
   ]
  }
 ],
 "metadata": {
  "kernelspec": {
   "display_name": "Python 3",
   "language": "python",
   "name": "python3"
  },
  "language_info": {
   "codemirror_mode": {
    "name": "ipython",
    "version": 3
   },
   "file_extension": ".py",
   "mimetype": "text/x-python",
   "name": "python",
   "nbconvert_exporter": "python",
   "pygments_lexer": "ipython3",
   "version": "3.8.7"
  }
 },
 "nbformat": 4,
 "nbformat_minor": 4
}
